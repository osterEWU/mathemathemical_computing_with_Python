{
 "cells": [
  {
   "cell_type": "markdown",
   "metadata": {},
   "source": [
    "# Logic\n",
    "\n",
    "## Boolean Values\n",
    "\n",
    "The [boolean](https://docs.python.org/3/library/stdtypes.html#truth-value-testing) type has only two values: `True` and `False`. Let's assign a boolean value to a variable and verify the type using the built-in function `type()`:"
   ]
  },
  {
   "cell_type": "code",
   "execution_count": 1,
   "metadata": {},
   "outputs": [
    {
     "name": "stdout",
     "output_type": "stream",
     "text": [
      "True\n"
     ]
    }
   ],
   "source": [
    "python_is_fun = True\n",
    "print(python_is_fun)"
   ]
  },
  {
   "cell_type": "code",
   "execution_count": 2,
   "metadata": {},
   "outputs": [
    {
     "data": {
      "text/plain": [
       "bool"
      ]
     },
     "execution_count": 2,
     "metadata": {},
     "output_type": "execute_result"
    }
   ],
   "source": [
    "type(python_is_fun)"
   ]
  },
  {
   "cell_type": "markdown",
   "metadata": {},
   "source": [
    "Let's assign the value `False` to a variable and again verify the type:"
   ]
  },
  {
   "cell_type": "code",
   "execution_count": 3,
   "metadata": {},
   "outputs": [
    {
     "name": "stdout",
     "output_type": "stream",
     "text": [
      "False\n"
     ]
    }
   ],
   "source": [
    "math_is_scary = False\n",
    "print(math_is_scary)"
   ]
  },
  {
   "cell_type": "code",
   "execution_count": 4,
   "metadata": {},
   "outputs": [
    {
     "data": {
      "text/plain": [
       "bool"
      ]
     },
     "execution_count": 4,
     "metadata": {},
     "output_type": "execute_result"
    }
   ],
   "source": [
    "type(math_is_scary)"
   ]
  },
  {
   "cell_type": "markdown",
   "metadata": {},
   "source": [
    "## Comparison Operators\n",
    "\n",
    "[Comparison operators](https://docs.python.org/3/library/stdtypes.html#comparisons) produce Boolean values as output. For example, if we have variables `x` and `y` with numeric values, we can evaluate the expression `x < y` and the result is a boolean value either `True` or `False`.\n",
    "\n",
    "| Comparison Operator | Description  |\n",
    "| :---: | :---: |\n",
    "| `<` | strictly less than |\n",
    "| `<=` | less than or equal |\n",
    "| `>` | strictly greater than |\n",
    "| `>=` | greater than or equal |\n",
    "| `==` | equal |\n",
    "| `!=` | not equal |\n",
    "\n",
    "For example:"
   ]
  },
  {
   "cell_type": "code",
   "execution_count": 5,
   "metadata": {},
   "outputs": [
    {
     "data": {
      "text/plain": [
       "False"
      ]
     },
     "execution_count": 5,
     "metadata": {},
     "output_type": "execute_result"
    }
   ],
   "source": [
    "1 == 2"
   ]
  },
  {
   "cell_type": "code",
   "execution_count": 6,
   "metadata": {},
   "outputs": [
    {
     "data": {
      "text/plain": [
       "True"
      ]
     },
     "execution_count": 6,
     "metadata": {},
     "output_type": "execute_result"
    }
   ],
   "source": [
    "1 < 2"
   ]
  },
  {
   "cell_type": "code",
   "execution_count": 7,
   "metadata": {},
   "outputs": [
    {
     "data": {
      "text/plain": [
       "True"
      ]
     },
     "execution_count": 7,
     "metadata": {},
     "output_type": "execute_result"
    }
   ],
   "source": [
    "2 == 2"
   ]
  },
  {
   "cell_type": "code",
   "execution_count": 8,
   "metadata": {},
   "outputs": [
    {
     "data": {
      "text/plain": [
       "True"
      ]
     },
     "execution_count": 8,
     "metadata": {},
     "output_type": "execute_result"
    }
   ],
   "source": [
    "3 != 3.14159"
   ]
  },
  {
   "cell_type": "code",
   "execution_count": 9,
   "metadata": {},
   "outputs": [
    {
     "data": {
      "text/plain": [
       "True"
      ]
     },
     "execution_count": 9,
     "metadata": {},
     "output_type": "execute_result"
    }
   ],
   "source": [
    "20.00000001 >= 20"
   ]
  },
  {
   "cell_type": "markdown",
   "metadata": {},
   "source": [
    "## Boolean Operators\n",
    "\n",
    "We combine logical expressions using [boolean operators](https://docs.python.org/3/library/stdtypes.html#boolean-operations-and-or-not) `and`, `or` and `not`.\n",
    "\n",
    "| Boolean Operator | Description |\n",
    "| :---: | :---: |\n",
    "| `A and B` | returns `True` if both `A` and `B` are `True` |\n",
    "| `A or B` | returns `True` if either `A` or `B` is `True`\n",
    "| `not A` |  returns `True` if `A` is `False`\n",
    "\n",
    "For example:"
   ]
  },
  {
   "cell_type": "code",
   "execution_count": 10,
   "metadata": {},
   "outputs": [
    {
     "data": {
      "text/plain": [
       "True"
      ]
     },
     "execution_count": 10,
     "metadata": {},
     "output_type": "execute_result"
    }
   ],
   "source": [
    "(1 < 2) and (3 != 5)"
   ]
  },
  {
   "cell_type": "code",
   "execution_count": 11,
   "metadata": {},
   "outputs": [
    {
     "data": {
      "text/plain": [
       "False"
      ]
     },
     "execution_count": 11,
     "metadata": {},
     "output_type": "execute_result"
    }
   ],
   "source": [
    "(1 < 2) and (3 < 1)"
   ]
  },
  {
   "cell_type": "code",
   "execution_count": 12,
   "metadata": {},
   "outputs": [
    {
     "data": {
      "text/plain": [
       "True"
      ]
     },
     "execution_count": 12,
     "metadata": {},
     "output_type": "execute_result"
    }
   ],
   "source": [
    "(1 < 2) or (3 < 1)"
   ]
  },
  {
   "cell_type": "code",
   "execution_count": 13,
   "metadata": {},
   "outputs": [
    {
     "data": {
      "text/plain": [
       "True"
      ]
     },
     "execution_count": 13,
     "metadata": {},
     "output_type": "execute_result"
    }
   ],
   "source": [
    "not (1000 <= 999)"
   ]
  },
  {
   "cell_type": "markdown",
   "metadata": {},
   "source": [
    "## if statements\n",
    "\n",
    "An [if statement](https://docs.python.org/3/tutorial/controlflow.html#if-statements) consists of one or more blocks of code such that only one block is executed depending on logical expressions. Let's do an example:"
   ]
  },
  {
   "cell_type": "code",
   "execution_count": 14,
   "metadata": {},
   "outputs": [
    {
     "name": "stdout",
     "output_type": "stream",
     "text": [
      "Discriminant = -24604\n",
      "Roots are complex.\n"
     ]
    }
   ],
   "source": [
    "# Determine if roots of polynomial ax^2 + bx + c = 0\n",
    "# are real, repeated or complex using the\n",
    "# quadratic formula x = (-b \\pm \\sqrt{b^2 - 4ac})/2a\n",
    "a = 10\n",
    "b = -234\n",
    "c = 1984\n",
    "discriminant = b**2 - 4*a*c\n",
    "if discriminant > 0:\n",
    "    print(\"Discriminant =\", discriminant)\n",
    "    print(\"Roots are real and distinct.\")\n",
    "elif discriminant < 0:\n",
    "    print(\"Discriminant =\", discriminant)\n",
    "    print(\"Roots are complex.\")\n",
    "else:\n",
    "    print(\"Discriminant =\", discriminant)\n",
    "    print(\"Roots are real and repeated.\")"
   ]
  },
  {
   "cell_type": "markdown",
   "metadata": {},
   "source": [
    "The main points to observe are:\n",
    "\n",
    "1. Start with the `if` keyword.\n",
    "2. Write a logical expression (returning `True` or `False`).\n",
    "3. End line with a colon `:`.\n",
    "4. Indent block 4 spaces after `if` statement.\n",
    "5. Include `elif` and `else` statements if needed.\n",
    "6. Only one of the blocks `if`, `elif` and `else` is executed.\n",
    "7. The block  following an `else` statement will execute only if all other logical expressions before it are `False`."
   ]
  },
  {
   "cell_type": "markdown",
   "metadata": {},
   "source": [
    "## Examples\n",
    "\n",
    "### Invertible Matrix\n",
    "\n",
    "Represent a 2 by 2 square matrix as a list of lists. For example, represent the matrix\n",
    "\n",
    "$$\n",
    "\\begin{bmatrix} 2 & -1 \\\\\\ 5 & 7 \\end{bmatrix}\n",
    "$$\n",
    "\n",
    "as the list of lists `[[2,-1],[5,7]]`.\n",
    "\n",
    "Write a function called `invertible` which takes an input parameter `M`, a list of lists representing a 2 by 2 matrix, and returns `True` if the matrix `M` is invertible and `False` if not."
   ]
  },
  {
   "cell_type": "code",
   "execution_count": 15,
   "metadata": {},
   "outputs": [],
   "source": [
    "def invertible(M):\n",
    "    '''Determine if M is invertible.\n",
    "\n",
    "    Parameters\n",
    "    ----------\n",
    "    M : list of lists\n",
    "        Representation of a 2 by 2 matrix M = [[a,b],[c,d]].\n",
    "\n",
    "    Returns\n",
    "    -------\n",
    "    bool\n",
    "        True if M is invertible and False if not.\n",
    "\n",
    "    Examples\n",
    "    --------\n",
    "    >>> invertible([[1,2],[3,4]])\n",
    "    True\n",
    "    '''\n",
    "    # A matrix M is invertible if and only if\n",
    "    # the determinant is not zero where\n",
    "    # det(M) = ad - bc for M = [[a,b],[c,d]]\n",
    "    determinant = M[0][0] * M[1][1] - M[0][1] * M[1][0]\n",
    "    if determinant != 0:\n",
    "        return True\n",
    "    else:\n",
    "        return False"
   ]
  },
  {
   "cell_type": "markdown",
   "metadata": {},
   "source": [
    "Let's test our function:"
   ]
  },
  {
   "cell_type": "code",
   "execution_count": 16,
   "metadata": {},
   "outputs": [
    {
     "data": {
      "text/plain": [
       "True"
      ]
     },
     "execution_count": 16,
     "metadata": {},
     "output_type": "execute_result"
    }
   ],
   "source": [
    "invertible([[1,2],[3,4]])"
   ]
  },
  {
   "cell_type": "code",
   "execution_count": 17,
   "metadata": {},
   "outputs": [
    {
     "data": {
      "text/plain": [
       "False"
      ]
     },
     "execution_count": 17,
     "metadata": {},
     "output_type": "execute_result"
    }
   ],
   "source": [
    "invertible([[1,1],[3,3]])"
   ]
  },
  {
   "cell_type": "markdown",
   "metadata": {},
   "source": [
    "### Concavity of a Polynomial\n",
    "\n",
    "Write a function called `concave_up` which takes input parameters `p` and `a` where `p` is a list representing a polynomial $p(x)$ and `a` is a number, and returns `True` if the function $p(x)$ is concave up at $x=a$ (ie. its second derivative is positive at $x=a$, $p''(a) > 0$).\n",
    "\n",
    "We'll use the second derivative test for polynomials. In particular, if we have a polynomial of degree $n$\n",
    "\n",
    "$$\n",
    "p(x) = c_0 + c_1 x + c_2 x^2 + \\cdots + c_n x^n\n",
    "$$\n",
    "\n",
    "then the second derivative of $p(x)$ at $x=a$ is the sum\n",
    "\n",
    "$$\n",
    "p''(a) = 2(1) c_2 + 3(2)c_3 a + 4(3)c_4 a^2 + \\cdots + n(n-1)c_n a^{n-2}\n",
    "$$"
   ]
  },
  {
   "cell_type": "code",
   "execution_count": 18,
   "metadata": {},
   "outputs": [],
   "source": [
    "def concave_up(p,a):\n",
    "    '''Determine if the polynomial p(x) is concave up at x=a.\n",
    "\n",
    "    Parameters\n",
    "    ----------\n",
    "    p : list of numbers\n",
    "        List [a_0,a_1,a_2,...,a_n] represents the polynomial\n",
    "        p(x) = a_0 + a_1*x + a_2*x**2 + ... + a_n*x**n\n",
    "\n",
    "    Returns\n",
    "    -------\n",
    "    bool\n",
    "        True if p(x) is concave up at x=a (ie. p''(a) > 0) and False otherwise.\n",
    "\n",
    "    Examples\n",
    "    --------\n",
    "    >>> concave_up([1,0,-2],0)\n",
    "    False\n",
    "    >>> concave_up([1,0,2],0)\n",
    "    True\n",
    "    '''\n",
    "    # Degree of the polynomial p(x)\n",
    "    degree = len(p) - 1\n",
    "\n",
    "    # p''(a) == 0 if degree of p(x) is less than 2\n",
    "    if degree < 2:\n",
    "        return False\n",
    "    else:\n",
    "        # Compute the second derivative p''(a)\n",
    "        DDp_a = sum([k*(k-1)*p[k]*a**(k-2) for k in range(2,degree + 1)])\n",
    "        if DDp_a > 0:\n",
    "            return True\n",
    "        else:\n",
    "            return False"
   ]
  },
  {
   "cell_type": "markdown",
   "metadata": {},
   "source": [
    "Let's test our function on $p(x) = 1 + x - x^3$ at $x=2$. Since $p''(x) = -6x$ and $p''(2) = -12 < 0$, the polynomial is concave down at $x=2$."
   ]
  },
  {
   "cell_type": "code",
   "execution_count": 19,
   "metadata": {},
   "outputs": [
    {
     "name": "stdout",
     "output_type": "stream",
     "text": [
      "False\n"
     ]
    }
   ],
   "source": [
    "p = [1,1,0,-1]\n",
    "a = 2\n",
    "concavity = concave_up(p,a)\n",
    "print(concavity)"
   ]
  },
  {
   "cell_type": "markdown",
   "metadata": {},
   "source": [
    "## Exercises\n",
    "\n",
    "1. The [discriminant](https://en.wikipedia.org/wiki/Discriminant#Cubic) of a cubic polynomial $p(x) = ax^3 + bx^2 + cx + d$ is\n",
    "\n",
    "    $$\n",
    "    \\Delta = b^2c^2 - 4ac^3 - 4b^3d - 27a^2d^2 + 18abcd\n",
    "    $$\n",
    "\n",
    "    The discriminant gives us information about the roots of the polynomial $p(x)$:\n",
    "\n",
    "    * if $\\Delta > 0$, then $p(x)$ has 3 distinct real roots\n",
    "    * if $\\Delta < 0$, then $p(x)$ has 2 distinct complex roots and 1 real root\n",
    "    * if $\\Delta = 0$, then $p(x)$ has at least 2 (real or complex) roots which are the same\n",
    "\n",
    "    Represent a cubic polynomial $p(x) = ax^3 + bx^2 + cx + d$ as a list `[d,c,b,a]` of numbers. (Note the order of the coefficients is increasing degree.) For example, the polynomial $p(x) = x^3 - x + 1$ is `[1,-1,0,1]`.\n",
    "\n",
    "    Write a function called `cubic_roots` which takes an input parameter `p`, a list of length 4 representing a cubic polynomial, and returns `True` if $p(x)$ has 3 real distinct roots and `False` otherwise.\n",
    "\n",
    "2. Represent a 2 by 2 square matrix as a list of lists. For example, represent the matrix\n",
    "\n",
    "    $$\n",
    "    \\begin{bmatrix} 2 & -1 \\\\\\ 5 & 7 \\end{bmatrix}\n",
    "    $$\n",
    "\n",
    "    as the list of lists `[[2,-1],[5,7]]`. Write a function called `inverse_a` which takes an input parameter `a` and returns a list of lists representing the [inverse of the matrix](https://en.wikipedia.org/wiki/Invertible_matrix)\n",
    "\n",
    "    $$\n",
    "    \\begin{bmatrix}\n",
    "    1 & a \\\\\\\n",
    "    a & -1\n",
    "    \\end{bmatrix}\n",
    "    $$\n",
    "\n",
    "3. Write a function called `real_eigenvalues` which takes an input parameter `M`, a list of lists representing a 2 by 2 matrix (as in the previous exercise), and returns `True` if the [eigenvalues](https://en.wikipedia.org/wiki/Eigenvalues_and_eigenvectors) of the matrix `M` are real numebrs and `False` if not."
   ]
  }
 ],
 "metadata": {
  "kernelspec": {
   "display_name": "Python 3",
   "language": "python",
   "name": "python3"
  },
  "language_info": {
   "codemirror_mode": {
    "name": "ipython",
    "version": 3
   },
   "file_extension": ".py",
   "mimetype": "text/x-python",
   "name": "python",
   "nbconvert_exporter": "python",
   "pygments_lexer": "ipython3",
   "version": "3.7.3"
  }
 },
 "nbformat": 4,
 "nbformat_minor": 2
}
