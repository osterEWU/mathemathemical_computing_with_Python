{
 "cells": [
  {
   "cell_type": "markdown",
   "metadata": {},
   "source": [
    "# Functions\n",
    "\n",
    "A [function](https://docs.python.org/3/tutorial/controlflow.html#defining-functions) takes input parameters, executes a series of computations with those inputs and then returns a final output value. Functions give us an efficient way to save and reuse a block of code over and over again with different input values. In this section, we summarize the built-in functions in the standard Python library and then we discuss how to define our own functions."
   ]
  },
  {
   "cell_type": "markdown",
   "metadata": {},
   "source": [
    "## Built-in Functions\n",
    "\n",
    "The standard Python library has a collection of [built-in functions](https://docs.python.org/3/library/functions.html) ready for us to use. We have already seen a few of these functions in previous sections such as `type()`, `print()` and `sum()`. The following is a list of built-in functions that we'll use most often:\n",
    "\n",
    "| Function | Description |\n",
    "| ---: | :--- |\n",
    "| `print(object)` | print `object` to output |\n",
    "| `type(object)` | return the type of `object` |\n",
    "| `abs(x)` | return the absolute value of `x` (or modulus if `x` is complex) |\n",
    "| `int(x)` | return the integer constructed from float `x` by truncating decimal |\n",
    "| `len(sequence)` | return the length of the `sequence` |\n",
    "| `sum(sequence)` | return the sum of the entries of `sequence` |\n",
    "| `max(sequence)`  | return the maximum value in `sequence` |\n",
    "| `min(sequence)` | return the minimum value in `sequence` |\n",
    "| `range(a,b,step)` | return the range object of integers from `a` to `b` (exclusive) by `step` |\n",
    "| `list(sequence)` | return a list constructed from `sequence` |\n",
    "| `sorted(sequence)` | return the sorted list from the items in `sequence` |\n",
    "| `reversed(sequence)` | return the reversed iterator object from the items in `sequence` |\n",
    "| `enumerate(sequence)` | return the enumerate object constructed from `sequence` |\n",
    "| `zip(a,b)` | return an iterator that aggregates items from sequences `a` and `b` |"
   ]
  },
  {
   "cell_type": "markdown",
   "metadata": {},
   "source": [
    "Use the function `print()` to display values:"
   ]
  },
  {
   "cell_type": "code",
   "execution_count": 1,
   "metadata": {},
   "outputs": [
    {
     "name": "stdout",
     "output_type": "stream",
     "text": [
      "3.14159\n"
     ]
    }
   ],
   "source": [
    "pi = 3.14159\n",
    "print(pi)"
   ]
  },
  {
   "cell_type": "markdown",
   "metadata": {},
   "source": [
    "Use the function `type()` to see the datatype of a value:"
   ]
  },
  {
   "cell_type": "code",
   "execution_count": 2,
   "metadata": {},
   "outputs": [
    {
     "data": {
      "text/plain": [
       "float"
      ]
     },
     "execution_count": 2,
     "metadata": {},
     "output_type": "execute_result"
    }
   ],
   "source": [
    "type(pi)"
   ]
  },
  {
   "cell_type": "markdown",
   "metadata": {},
   "source": [
    "Use the function `abs()` to compute the absolute value of a real number:"
   ]
  },
  {
   "cell_type": "code",
   "execution_count": 3,
   "metadata": {},
   "outputs": [
    {
     "data": {
      "text/plain": [
       "2019"
      ]
     },
     "execution_count": 3,
     "metadata": {},
     "output_type": "execute_result"
    }
   ],
   "source": [
    "x = -2019\n",
    "abs(x)"
   ]
  },
  {
   "cell_type": "markdown",
   "metadata": {},
   "source": [
    "Or compute the magnitude of a complex number:"
   ]
  },
  {
   "cell_type": "code",
   "execution_count": 4,
   "metadata": {},
   "outputs": [
    {
     "data": {
      "text/plain": [
       "5.0"
      ]
     },
     "execution_count": 4,
     "metadata": {},
     "output_type": "execute_result"
    }
   ],
   "source": [
    "z = 3 - 4j\n",
    "abs(z)"
   ]
  },
  {
   "cell_type": "markdown",
   "metadata": {},
   "source": [
    "Use the function `int()` to truncate a float into an int:"
   ]
  },
  {
   "cell_type": "code",
   "execution_count": 5,
   "metadata": {},
   "outputs": [
    {
     "data": {
      "text/plain": [
       "3"
      ]
     },
     "execution_count": 5,
     "metadata": {},
     "output_type": "execute_result"
    }
   ],
   "source": [
    "pi = 3.14159\n",
    "int(pi)"
   ]
  },
  {
   "cell_type": "markdown",
   "metadata": {},
   "source": [
    "The function truncates floats always towards 0:"
   ]
  },
  {
   "cell_type": "code",
   "execution_count": 6,
   "metadata": {},
   "outputs": [
    {
     "data": {
      "text/plain": [
       "-1"
      ]
     },
     "execution_count": 6,
     "metadata": {},
     "output_type": "execute_result"
    }
   ],
   "source": [
    "c = -1.2345\n",
    "int(c)"
   ]
  },
  {
   "cell_type": "markdown",
   "metadata": {},
   "source": [
    "Use the function `len()` to compute the length of a sequence:"
   ]
  },
  {
   "cell_type": "code",
   "execution_count": 7,
   "metadata": {},
   "outputs": [
    {
     "data": {
      "text/plain": [
       "13"
      ]
     },
     "execution_count": 7,
     "metadata": {},
     "output_type": "execute_result"
    }
   ],
   "source": [
    "primes = [2,3,5,7,11,13,17,19,23,29,31,37,41]\n",
    "len(primes)"
   ]
  },
  {
   "cell_type": "markdown",
   "metadata": {},
   "source": [
    "Use the function `sum()` to compute the sum of a sequence:"
   ]
  },
  {
   "cell_type": "code",
   "execution_count": 8,
   "metadata": {},
   "outputs": [
    {
     "data": {
      "text/plain": [
       "5050"
      ]
     },
     "execution_count": 8,
     "metadata": {},
     "output_type": "execute_result"
    }
   ],
   "source": [
    "one_to_hundred = range(1,101)\n",
    "sum(one_to_hundred)"
   ]
  },
  {
   "cell_type": "markdown",
   "metadata": {},
   "source": [
    "Use the functions `max()` and `min()` to compute the maximum and minimum values in a sequence."
   ]
  },
  {
   "cell_type": "code",
   "execution_count": 9,
   "metadata": {},
   "outputs": [
    {
     "name": "stdout",
     "output_type": "stream",
     "text": [
      "28\n",
      "3\n"
     ]
    }
   ],
   "source": [
    "random = [8,27,3,7,6,14,28,19]\n",
    "print(max(random))\n",
    "print(min(random))"
   ]
  },
  {
   "cell_type": "markdown",
   "metadata": {},
   "source": [
    "Use the function `list()` to convert a sequence (such as a range or a tuple) into a list:"
   ]
  },
  {
   "cell_type": "code",
   "execution_count": 10,
   "metadata": {},
   "outputs": [
    {
     "data": {
      "text/plain": [
       "[0, 2, 4, 6, 8]"
      ]
     },
     "execution_count": 10,
     "metadata": {},
     "output_type": "execute_result"
    }
   ],
   "source": [
    "list(range(0,10,2))"
   ]
  },
  {
   "cell_type": "markdown",
   "metadata": {},
   "source": [
    "Use the function `sorted()` to sort a sequence:"
   ]
  },
  {
   "cell_type": "code",
   "execution_count": 11,
   "metadata": {},
   "outputs": [
    {
     "name": "stdout",
     "output_type": "stream",
     "text": [
      "[8, 27, 3, 7, 6, 14, 28, 19]\n",
      "[3, 6, 7, 8, 14, 19, 27, 28]\n"
     ]
    }
   ],
   "source": [
    "sorted_random = sorted(random)\n",
    "print(random)\n",
    "print(sorted_random)"
   ]
  },
  {
   "cell_type": "markdown",
   "metadata": {},
   "source": [
    "Use the function `reversed()` to reverse the order of a sequence:"
   ]
  },
  {
   "cell_type": "code",
   "execution_count": 12,
   "metadata": {},
   "outputs": [
    {
     "name": "stdout",
     "output_type": "stream",
     "text": [
      "[8, 27, 3, 7, 6, 14, 28, 19]\n",
      "[19, 28, 14, 6, 7, 3, 27, 8]\n"
     ]
    }
   ],
   "source": [
    "reversed_random = list(reversed(random))\n",
    "print(random)\n",
    "print(reversed_random)"
   ]
  },
  {
   "cell_type": "markdown",
   "metadata": {},
   "source": [
    "Use the function `enumerate()` to enumerate a sequence:"
   ]
  },
  {
   "cell_type": "code",
   "execution_count": 13,
   "metadata": {},
   "outputs": [
    {
     "name": "stdout",
     "output_type": "stream",
     "text": [
      "[0, 1, 4, 9, 16, 25]\n",
      "[(0, 0), (1, 1), (2, 4), (3, 9), (4, 16), (5, 25)]\n"
     ]
    }
   ],
   "source": [
    "squares = [n**2 for n in range(0,6)]\n",
    "print(squares)\n",
    "enum_squares = list(enumerate(squares))\n",
    "print(enum_squares)"
   ]
  },
  {
   "cell_type": "markdown",
   "metadata": {},
   "source": [
    "Use the function `zip()` to combine sequences into a list of pairs:"
   ]
  },
  {
   "cell_type": "code",
   "execution_count": 14,
   "metadata": {},
   "outputs": [
    {
     "name": "stdout",
     "output_type": "stream",
     "text": [
      "[(-2, 7), (4, -1), (0, 9), (5, 3)]\n"
     ]
    }
   ],
   "source": [
    "random_1 = [-2,4,0,5]\n",
    "random_2 = [7,-1,9,3]\n",
    "random_zip = list(zip(random_1,random_2))\n",
    "print(random_zip)"
   ]
  },
  {
   "cell_type": "markdown",
   "metadata": {},
   "source": [
    "Notice in the last three examples `reversed()`, `enumerate()` and `zip()` we use the function `list()` to create a list from the output of each function. This is because these functions return *iterator* objects (similar to range objects) which only yield values when explicitly told to do so."
   ]
  },
  {
   "cell_type": "markdown",
   "metadata": {},
   "source": [
    "## Defining Functions\n",
    "\n",
    "Let's begin with a simple example. Define a function which returns the average of a sequence of numbers:"
   ]
  },
  {
   "cell_type": "code",
   "execution_count": 15,
   "metadata": {},
   "outputs": [],
   "source": [
    "def average(x):\n",
    "    \"Compute the average of the values in the sequence x.\"\n",
    "    sum_x = sum(x)\n",
    "    length_x = len(x)\n",
    "    return sum_x / length_x"
   ]
  },
  {
   "cell_type": "markdown",
   "metadata": {},
   "source": [
    "The main points to observe are:\n",
    "\n",
    "1. Start the function definition with the `def` keyword.\n",
    "2. Follow `def` with the name of the function.\n",
    "3. Follow the function name with the list of input parameters separated by commas and within parentheses.\n",
    "4. End the `def` statement with a colon `:`.\n",
    "5. Indent the body of the function by 4 spaces.\n",
    "6. Use the `return` keyword to specify the output of the function (but it is not always necessary).\n",
    "7. The second line is a [documentation string](https://docs.python.org/3/tutorial/controlflow.html#documentation-strings) (enclosed in quotation marks \" ... \") which describes the function.\n",
    "\n",
    "In Python, code blocks are defined using [indentation](https://www.python.org/dev/peps/pep-0008/#indentation). This means that lines of code indented the same amount are considered one block. In the example above, the four indented lines below the `def` statement form the body of the function.\n",
    "\n",
    "Notice that there is no output when we execute the cell containing the function definition. This is because we've only defined the function and it's waiting for us to use it! We need to call the function with values for the input parameters and then the function will compute and return the output value."
   ]
  },
  {
   "cell_type": "markdown",
   "metadata": {},
   "source": [
    "Let's test our function:"
   ]
  },
  {
   "cell_type": "code",
   "execution_count": 16,
   "metadata": {},
   "outputs": [
    {
     "data": {
      "text/plain": [
       "2.5"
      ]
     },
     "execution_count": 16,
     "metadata": {},
     "output_type": "execute_result"
    }
   ],
   "source": [
    "average([1,2,3,4])"
   ]
  },
  {
   "cell_type": "markdown",
   "metadata": {},
   "source": [
    "The function returns the expected value. Success!"
   ]
  },
  {
   "cell_type": "markdown",
   "metadata": {},
   "source": [
    "## Documentation Strings\n",
    "\n",
    "The first line after the `def` statement in a function definition should be a [documentation string](https://docs.python.org/3/tutorial/controlflow.html#documentation-strings) (or docstring). A docstring is text (enclosed in double quotes `\" ... \"` or triple quotes ` ''' ... ''' `) which describes your function. Use triple quotes for a multiline docstring. See the [Python documentation](https://www.python.org/dev/peps/pep-0257/) for all the conventions related to documentation strings.\n",
    "\n",
    "A helpful feature of the Jupyter notebook is the question mark operator `?`. This will display the docstring of a function. Keep this in mind when writing your docstrings: other people will read your docstring to learn how to use your function.\n",
    "\n",
    "For example,  use the question mark `?` to view the documentation for the built-in function `sum()`:"
   ]
  },
  {
   "cell_type": "code",
   "execution_count": 17,
   "metadata": {},
   "outputs": [],
   "source": [
    "sum?"
   ]
  },
  {
   "cell_type": "markdown",
   "metadata": {},
   "source": [
    "I recommend (but it's up to you) a style similar to NumPy's style guide for docstrings:"
   ]
  },
  {
   "cell_type": "markdown",
   "metadata": {},
   "source": [
    "```python\n",
    "def function_name(param1,param2,param3):\n",
    "    '''First line is a one-line general summary.\n",
    "\n",
    "    A longer paragraph describing the function and\n",
    "    relevant equations or algorithms used in the\n",
    "    function.\n",
    "\n",
    "    Parameters\n",
    "    ----------\n",
    "    param1 : datatype\n",
    "        Describe the parameter.\n",
    "    param2 : datatype\n",
    "        Describe the parameter.\n",
    "    param3 : datatype\n",
    "        Describe the parameters and continue with more\n",
    "        details if necessary on a new set of indented lines.\n",
    "\n",
    "    Returns\n",
    "    -------\n",
    "    datatype\n",
    "        A description of the output of the function and also\n",
    "        describe special behaviour.\n",
    "\n",
    "    Examples\n",
    "    --------\n",
    "    >>> function_name(1,2,3)\n",
    "    1.2345\n",
    "    '''\n",
    "\n",
    "```\n",
    "\n",
    "See these [examples](http://sphinxcontrib-napoleon.readthedocs.io/en/latest/example_google.html) and these [examples](https://google.github.io/styleguide/pyguide.html?showone=Comments#Comments)."
   ]
  },
  {
   "cell_type": "markdown",
   "metadata": {},
   "source": [
    "## Keyword Arguments\n",
    "\n",
    "When we define functions, we list the input parameters. These are called positional parameters (or positional arguments) because the position in the `def` statement determines which parameter is which."
   ]
  },
  {
   "cell_type": "code",
   "execution_count": 18,
   "metadata": {},
   "outputs": [],
   "source": [
    "def poly(x,y):\n",
    "    \"Compute x + y**2.\"\n",
    "    return x + y**2"
   ]
  },
  {
   "cell_type": "code",
   "execution_count": 19,
   "metadata": {},
   "outputs": [
    {
     "data": {
      "text/plain": [
       "5"
      ]
     },
     "execution_count": 19,
     "metadata": {},
     "output_type": "execute_result"
    }
   ],
   "source": [
    "poly(1,2)"
   ]
  },
  {
   "cell_type": "code",
   "execution_count": 20,
   "metadata": {},
   "outputs": [
    {
     "data": {
      "text/plain": [
       "3"
      ]
     },
     "execution_count": 20,
     "metadata": {},
     "output_type": "execute_result"
    }
   ],
   "source": [
    "poly(2,1)"
   ]
  },
  {
   "cell_type": "markdown",
   "metadata": {},
   "source": [
    "A [keyword argument](https://docs.python.org/3/tutorial/controlflow.html#keyword-arguments) allows us to insert default values for some parameters and we call them by name and the order doesn't matter."
   ]
  },
  {
   "cell_type": "code",
   "execution_count": 21,
   "metadata": {},
   "outputs": [],
   "source": [
    "def greeting(first_name,last_name,salutation='Hello, '):\n",
    "    return \"{0}{1} {2}!\".format(salutation, first_name, last_name)"
   ]
  },
  {
   "cell_type": "code",
   "execution_count": 22,
   "metadata": {},
   "outputs": [
    {
     "data": {
      "text/plain": [
       "'Hello, Patrick Walls!'"
      ]
     },
     "execution_count": 22,
     "metadata": {},
     "output_type": "execute_result"
    }
   ],
   "source": [
    "greeting('Patrick','Walls')"
   ]
  },
  {
   "cell_type": "code",
   "execution_count": 23,
   "metadata": {},
   "outputs": [
    {
     "data": {
      "text/plain": [
       "'Hello, Walls Patrick!'"
      ]
     },
     "execution_count": 23,
     "metadata": {},
     "output_type": "execute_result"
    }
   ],
   "source": [
    "greeting('Walls','Patrick')"
   ]
  },
  {
   "cell_type": "code",
   "execution_count": 24,
   "metadata": {},
   "outputs": [
    {
     "data": {
      "text/plain": [
       "'I love you LeBron James!'"
      ]
     },
     "execution_count": 24,
     "metadata": {},
     "output_type": "execute_result"
    }
   ],
   "source": [
    "greeting('LeBron','James',salutation='I love you ')"
   ]
  },
  {
   "cell_type": "markdown",
   "metadata": {},
   "source": [
    "In this function, `first_name` and `last_name` are positional arguments and `saluation` is a keyword argument.\n",
    "\n",
    "For example, the function `pandas.read_csv` in the `pandas` package has *many* keyword arguments:"
   ]
  },
  {
   "cell_type": "code",
   "execution_count": 25,
   "metadata": {},
   "outputs": [],
   "source": [
    "import pandas as pd"
   ]
  },
  {
   "cell_type": "code",
   "execution_count": 26,
   "metadata": {},
   "outputs": [],
   "source": [
    "pd.read_csv?"
   ]
  },
  {
   "cell_type": "markdown",
   "metadata": {},
   "source": [
    "So *many* keyword arguments! The keyword arguments I use most often are `encoding`, `skiprows` and `usecols`."
   ]
  },
  {
   "cell_type": "markdown",
   "metadata": {},
   "source": [
    "## Comments\n",
    "\n",
    "[Comments](https://docs.python.org/3/tutorial/introduction.html) in a Python program are plain text descriptions of Python code which explain code to the reader. Python will ignore lines which begin with the hash symbol `#` and so we use the hash symbol to write comments to explain the steps in a program. See the examples below."
   ]
  },
  {
   "cell_type": "markdown",
   "metadata": {},
   "source": [
    "## Examples\n",
    "\n",
    "### Area of a Triangle\n",
    "\n",
    "Let's define a function called `area_triangle` which takes an input parameter `vertices` which is a list of tuples representing the vertices of a triangle and returns the area of the triangle using [Heron's Formula](https://en.wikipedia.org/wiki/Heron%27s_formula):\n",
    "\n",
    "$$\n",
    "A = \\sqrt{s(s-a)(s-b)(s-c)}\n",
    "$$\n",
    "\n",
    "where $a$, $b$ and $c$ are the side lengths and $s$ is the semiperimeter\n",
    "\n",
    "$$\n",
    "s = \\frac{a+b+c}{2}\n",
    "$$"
   ]
  },
  {
   "cell_type": "code",
   "execution_count": 27,
   "metadata": {},
   "outputs": [],
   "source": [
    "def area_triangle(vertices):\n",
    "    '''Compute the area of the triangle with given vertices.\n",
    "\n",
    "    Parameters\n",
    "    ----------\n",
    "    vertices : list of tuples of numbers\n",
    "        The vertices of a triangle [(x1,y1),(x2,y2),(x3,y3)].\n",
    "\n",
    "    Returns\n",
    "    -------\n",
    "    float\n",
    "        Area of the triangle computed by Heron's formula.\n",
    "\n",
    "    Examples\n",
    "    --------\n",
    "    >>> area_triangle([(0,0),(3,0),(3,4)])\n",
    "    6.0\n",
    "    >>> area_triangle([(-1,2),(-3,-1),(4,1)])\n",
    "    8.499999999999996\n",
    "    '''\n",
    "    # Find the x distance between vertices 0 and 1\n",
    "    a_x = abs(vertices[0][0] - vertices[1][0])\n",
    "    # Find the y distance between vertices 0 and 1\n",
    "    a_y = abs(vertices[0][1] - vertices[1][1])\n",
    "    # Compute length of side a\n",
    "    a = (a_x**2 + a_y**2)**0.5\n",
    "\n",
    "    # Find the x distance between vertices 1 and 2\n",
    "    b_x = abs(vertices[1][0] - vertices[2][0])\n",
    "    # Find the y distance between vertices 1 and 2\n",
    "    b_y = abs(vertices[1][1] - vertices[2][1])\n",
    "    # Compute length of side b\n",
    "    b = (b_x**2 + b_y**2)**0.5\n",
    "\n",
    "    # Find the x distance between vertices 0 and 2\n",
    "    c_x = abs(vertices[0][0] - vertices[2][0])\n",
    "    # Find the y distance between vertices 0 and 2\n",
    "    c_y = abs(vertices[0][1] - vertices[2][1])\n",
    "    # Compute length of side c\n",
    "    c = (c_x**2 + c_y**2)**0.5\n",
    "\n",
    "    # Compute semiperimeter\n",
    "    s = (a + b + c)/2\n",
    "    # Compute area\n",
    "    area = (s*(s - a)*(s - b)*(s - c))**0.5\n",
    "\n",
    "    return area"
   ]
  },
  {
   "cell_type": "markdown",
   "metadata": {},
   "source": [
    "Let's test our function. We know that the area of a right angle triangle with sides of length 1 and hypotenuse $\\sqrt{2}$ has area $0.5$."
   ]
  },
  {
   "cell_type": "code",
   "execution_count": 28,
   "metadata": {},
   "outputs": [
    {
     "data": {
      "text/plain": [
       "0.49999999999999983"
      ]
     },
     "execution_count": 28,
     "metadata": {},
     "output_type": "execute_result"
    }
   ],
   "source": [
    "area_triangle([(0,0),(0,1),(1,0)])"
   ]
  },
  {
   "cell_type": "markdown",
   "metadata": {},
   "source": [
    "Let's test again on another triangle with base $b=3$ and height $h=4$ and therefore its area is $A=3(4)/2=6$."
   ]
  },
  {
   "cell_type": "code",
   "execution_count": 29,
   "metadata": {},
   "outputs": [
    {
     "data": {
      "text/plain": [
       "6.000000000000003"
      ]
     },
     "execution_count": 29,
     "metadata": {},
     "output_type": "execute_result"
    }
   ],
   "source": [
    "area_triangle([(0,0),(3,0),(1,4)])"
   ]
  },
  {
   "cell_type": "markdown",
   "metadata": {},
   "source": [
    "The function `area_triangle` returns the expected values. Success!"
   ]
  },
  {
   "cell_type": "markdown",
   "metadata": {},
   "source": [
    "### Riemann Zeta Function\n",
    "\n",
    "The [Riemann zeta function](https://en.wikipedia.org/wiki/Riemann_zeta_function) is the infinite sum\n",
    "\n",
    "$$\n",
    "\\zeta(s) = \\sum_{n = 1}^{\\infty} \\frac{1}{n^s}\n",
    "$$\n",
    "\n",
    "Write a function called `zeta` which takes 2 input parameters `s` and `N` and returns the partial sum:\n",
    "\n",
    "$$\n",
    "\\sum_{n=1}^N \\frac{1}{n^s}\n",
    "$$"
   ]
  },
  {
   "cell_type": "code",
   "execution_count": 30,
   "metadata": {},
   "outputs": [],
   "source": [
    "def zeta(s,N):\n",
    "    \"Compute the Nth partial sum of the zeta function at s.\"\n",
    "    terms = [1/n**s for n in range(1,N+1)]\n",
    "    partial_sum = sum(terms)\n",
    "    return partial_sum"
   ]
  },
  {
   "cell_type": "markdown",
   "metadata": {},
   "source": [
    "Let's test our function on input values for which we know the result:"
   ]
  },
  {
   "cell_type": "code",
   "execution_count": 31,
   "metadata": {},
   "outputs": [
    {
     "data": {
      "text/plain": [
       "1.0"
      ]
     },
     "execution_count": 31,
     "metadata": {},
     "output_type": "execute_result"
    }
   ],
   "source": [
    "zeta(1,1)"
   ]
  },
  {
   "cell_type": "code",
   "execution_count": 32,
   "metadata": {},
   "outputs": [
    {
     "data": {
      "text/plain": [
       "1.25"
      ]
     },
     "execution_count": 32,
     "metadata": {},
     "output_type": "execute_result"
    }
   ],
   "source": [
    "zeta(2,2)"
   ]
  },
  {
   "cell_type": "markdown",
   "metadata": {},
   "source": [
    "Now let's use our function to approximate [special values of the Riemann zeta function](https://en.wikipedia.org/wiki/Riemann_zeta_function#Specific_values):\n",
    "\n",
    "$$\n",
    "\\zeta(2) = \\frac{\\pi^2}{6} \\hspace{10mm} \\text{and} \\hspace{10mm} \\zeta(4) = \\frac{\\pi^4}{90}\n",
    "$$\n",
    "\n",
    "Compute the partial sum for $s=2$ and $N=100000$:"
   ]
  },
  {
   "cell_type": "code",
   "execution_count": 33,
   "metadata": {},
   "outputs": [
    {
     "data": {
      "text/plain": [
       "1.6449240668982423"
      ]
     },
     "execution_count": 33,
     "metadata": {},
     "output_type": "execute_result"
    }
   ],
   "source": [
    "zeta(2,100000)"
   ]
  },
  {
   "cell_type": "markdown",
   "metadata": {},
   "source": [
    "Compare to an approximation of the special value $\\pi^2/6$:"
   ]
  },
  {
   "cell_type": "code",
   "execution_count": 34,
   "metadata": {},
   "outputs": [
    {
     "data": {
      "text/plain": [
       "1.6449340630890041"
      ]
     },
     "execution_count": 34,
     "metadata": {},
     "output_type": "execute_result"
    }
   ],
   "source": [
    "3.14159265**2/6"
   ]
  },
  {
   "cell_type": "markdown",
   "metadata": {},
   "source": [
    "Compute the partial sum for $s=4$ and $N=100000$:"
   ]
  },
  {
   "cell_type": "code",
   "execution_count": 35,
   "metadata": {},
   "outputs": [
    {
     "data": {
      "text/plain": [
       "1.082323233710861"
      ]
     },
     "execution_count": 35,
     "metadata": {},
     "output_type": "execute_result"
    }
   ],
   "source": [
    "zeta(4,100000)"
   ]
  },
  {
   "cell_type": "markdown",
   "metadata": {},
   "source": [
    "Compare to an approximation of the special value $\\pi^4/90$:"
   ]
  },
  {
   "cell_type": "code",
   "execution_count": 36,
   "metadata": {},
   "outputs": [
    {
     "data": {
      "text/plain": [
       "1.0823232287641997"
      ]
     },
     "execution_count": 36,
     "metadata": {},
     "output_type": "execute_result"
    }
   ],
   "source": [
    "3.14159265**4/90"
   ]
  },
  {
   "cell_type": "markdown",
   "metadata": {},
   "source": [
    "### Harmonic Mean\n",
    "\n",
    "Write a function called `harmonic_mean` which takes an input parameter `s`, a list of numbers $x_1, \\dots, x_n$ of length $n$, and returns the [harmonic mean](https://en.wikipedia.org/wiki/Harmonic_mean) of the sequence:\n",
    "\n",
    "$$\n",
    "\\frac{n}{\\frac{1}{x_1} + \\frac{1}{x_2} + \\cdots + \\frac{1}{x_n}}\n",
    "$$"
   ]
  },
  {
   "cell_type": "code",
   "execution_count": 37,
   "metadata": {},
   "outputs": [],
   "source": [
    "def harmonic_mean(s):\n",
    "    \"Compute the harmonic mean of the numbers in the sequence s.\"\n",
    "    n = len(s)\n",
    "    terms = [1/s[i] for i in range(0,n)]\n",
    "    result = n/sum(terms)\n",
    "    return result"
   ]
  },
  {
   "cell_type": "markdown",
   "metadata": {},
   "source": [
    "Let's test our function:"
   ]
  },
  {
   "cell_type": "code",
   "execution_count": 38,
   "metadata": {},
   "outputs": [
    {
     "data": {
      "text/plain": [
       "1.0"
      ]
     },
     "execution_count": 38,
     "metadata": {},
     "output_type": "execute_result"
    }
   ],
   "source": [
    "harmonic_mean([1,1,1,1])"
   ]
  },
  {
   "cell_type": "code",
   "execution_count": 39,
   "metadata": {},
   "outputs": [
    {
     "data": {
      "text/plain": [
       "1.6363636363636365"
      ]
     },
     "execution_count": 39,
     "metadata": {},
     "output_type": "execute_result"
    }
   ],
   "source": [
    "harmonic_mean([1,2,3])"
   ]
  },
  {
   "cell_type": "markdown",
   "metadata": {},
   "source": [
    "### Riemann Sums\n",
    "\n",
    "Write a function called `mn_integral` which takes input parameters `m`, `n`, `a`, `b` and `N` and returns the (right) [Riemann sum](https://en.wikipedia.org/wiki/Riemann_sum):\n",
    "$$\n",
    "\\int_a^b f(x) \\, dx \\approx \\sum_{k=1}^N f(x_k) \\Delta x \\ \\ , \\ \\ f(x) = \\frac{x^m + 1}{x^n + 1}\n",
    "$$\n",
    "\n",
    "and $\\Delta x = (b-a)/N$ and $x_k = a + k \\Delta x$."
   ]
  },
  {
   "cell_type": "code",
   "execution_count": 40,
   "metadata": {},
   "outputs": [],
   "source": [
    "def mn_integral(m,n,a,b,N):\n",
    "    '''Compute the (right) Riemann sum for the function\n",
    "    f(x) = (x^m + 1)/(x^n + 1) on interval [a,b] with a\n",
    "    partition of N subintervals of equal size.\n",
    "\n",
    "    Parameters\n",
    "    ----------\n",
    "    m , n : numbers\n",
    "        Parameters in function f(x) = (x^m + 1)/(x^n + 1)\n",
    "    a , b : numbers\n",
    "        Limits of integration.\n",
    "    N : integer\n",
    "        Size of partition of interval [a,b].\n",
    "\n",
    "    Returns\n",
    "    -------\n",
    "    float\n",
    "        The (right) Riemann sum of f(x) from a to b\n",
    "        using a partition of size N.\n",
    "\n",
    "    Examples\n",
    "    --------\n",
    "    >>> mn_integral(0,1,0,1,2)\n",
    "    1.1666666666666665\n",
    "    >>> mn_integral(1,2,0,1,100000)\n",
    "    1.1319717536649336\n",
    "    '''\n",
    "    # Compute the width of subintervals\n",
    "    delta_x = (b - a)/N\n",
    "\n",
    "    # Create N+1 evenly spaced x values from a to b\n",
    "    x = [a + k*delta_x for k in range(0,N+1)]\n",
    "\n",
    "    # Compute terms of the sum\n",
    "    terms = [(x[k]**m + 1)/(x[k]**n + 1)*delta_x for k in range(1,N+1)]\n",
    "\n",
    "    # Compute the sum\n",
    "    riemann_sum = sum(terms)\n",
    "\n",
    "    return riemann_sum"
   ]
  },
  {
   "cell_type": "markdown",
   "metadata": {},
   "source": [
    "Let's test our function on input for which we know the result. Let $m=0$, $n=1$, $a=0$, $b=1$ and $N=2$. Then $x_0 = 0$, $x_1 = 1/2$, $x_2 = 1$ and $\\Delta x = 1/2$, and we compute:\n",
    "\n",
    "$$\n",
    "\\begin{aligned}\n",
    "\\sum_{k=1}^N f(x_k) \\Delta x &= \\sum_{k=1}^2 \\frac{x_k^0 + 1}{x_k^1 + 1} \\Delta x \\\\\\\n",
    "&= \\frac{2}{(1/2) + 1} \\cdot \\frac{1}{2} + \\frac{2}{1 + 1} \\cdot \\frac{1}{2} \\\\\\\n",
    "&= \\frac{7}{6}\n",
    "\\end{aligned}\n",
    "$$"
   ]
  },
  {
   "cell_type": "code",
   "execution_count": 41,
   "metadata": {},
   "outputs": [
    {
     "data": {
      "text/plain": [
       "1.1666666666666665"
      ]
     },
     "execution_count": 41,
     "metadata": {},
     "output_type": "execute_result"
    }
   ],
   "source": [
    "mn_integral(0,1,0,1,2)"
   ]
  },
  {
   "cell_type": "code",
   "execution_count": 42,
   "metadata": {},
   "outputs": [
    {
     "data": {
      "text/plain": [
       "1.1666666666666667"
      ]
     },
     "execution_count": 42,
     "metadata": {},
     "output_type": "execute_result"
    }
   ],
   "source": [
    "7/6"
   ]
  },
  {
   "cell_type": "markdown",
   "metadata": {},
   "source": [
    "Let's test our function on another example. Let $m=1$, $n=2$, $a=0$, and $b=1$. We can solve this integral exactly:\n",
    "\n",
    "$$\n",
    "\\begin{aligned}\n",
    "\\int_0^1 \\frac{x + 1}{x^2 + 1} dx &= \\int_0^1 \\frac{x}{x^2 + 1} dx + \\int_0^1 \\frac{1}{x^2 + 1} dx \\\\\\\n",
    "&= \\left. \\left( \\frac{1}{2} \\ln(x^2 + 1) + \\arctan x \\right) \\right|_0^1 \\\\\\\n",
    "&= \\frac{1}{2} \\ln(2) + \\frac{\\pi}{4}\n",
    "\\end{aligned}\n",
    "$$\n",
    "\n",
    "Approximate this integral with a Riemann sum for $N=100000$:"
   ]
  },
  {
   "cell_type": "code",
   "execution_count": 43,
   "metadata": {},
   "outputs": [
    {
     "data": {
      "text/plain": [
       "1.1319717536649336"
      ]
     },
     "execution_count": 43,
     "metadata": {},
     "output_type": "execute_result"
    }
   ],
   "source": [
    "mn_integral(1,2,0,1,100000)"
   ]
  },
  {
   "cell_type": "markdown",
   "metadata": {},
   "source": [
    "Since $\\pi \\approx 3.14159265$ and $\\ln(2) \\approx 0.69314718$, we compare to the approximation:"
   ]
  },
  {
   "cell_type": "code",
   "execution_count": 44,
   "metadata": {},
   "outputs": [
    {
     "data": {
      "text/plain": [
       "1.1319717525000002"
      ]
     },
     "execution_count": 44,
     "metadata": {},
     "output_type": "execute_result"
    }
   ],
   "source": [
    "0.5*0.69314718 + 3.14159265/4"
   ]
  },
  {
   "cell_type": "markdown",
   "metadata": {},
   "source": [
    "Our function computes the expected values!"
   ]
  },
  {
   "cell_type": "markdown",
   "metadata": {},
   "source": [
    "## Exercises\n",
    "\n",
    "1. Write a function called `power_mean` which takes input parameters `sequence` and `p` where `sequence` is a list of positive real numbers $x_1, \\dots, x_n$ and `p` is a nonzero number. The function returns the [power mean with exponent p](https://en.wikipedia.org/wiki/Generalized_mean):\n",
    "\n",
    "    $$\n",
    "    \\left( \\frac{1}{n} \\sum_{i=1}^n x_i^p \\right)^{1/p}\n",
    "    $$\n",
    "\n",
    "    Plug in large positive values of $p$ and various lists of numbers to verify\n",
    "\n",
    "    $$\n",
    "    \\lim_{p \\to \\infty} \\left( \\frac{1}{n} \\sum_{i=1}^n x_i^p \\right)^{1/p} = \\max \\{x_1, \\dots, x_n \\}\n",
    "    $$\n",
    "\n",
    "    Plug in large negative values of $p$ and various lists of numbers to verify\n",
    "\n",
    "    $$\n",
    "    \\lim_{p \\to -\\infty} \\left( \\frac{1}{n} \\sum_{i=1}^n x_i^p \\right)^{1/p} = \\min \\{x_1, \\dots, x_n \\}\n",
    "    $$\n",
    "\n",
    "2. Write a function called `arctan_taylor` which takes input parameters `x` and `N` and return the Taylor polynomial of degree $N$ of the function $\\arctan x$ evaluated at `x`:\n",
    "\n",
    "    $$\n",
    "    \\sum_{k=0}^N (-1)^k \\frac{x^{2k + 1}}{2k + 1}\n",
    "    $$\n",
    "\n",
    "3. Write a function called `zips` which takes input parameters `a` and `b`, where `a` and `b` are lists of the equal length, and returns the list of tuples which aggregates the sequence. (In other words, write your own version of the built-in function `zip()`... without using `zip()` of course.) For example `zips([-1,3,4,0],[5,7,1,-9])` returns the list `[(-1, 5), (3, 7), (4, 1), (0, -9)]`.\n",
    "\n",
    "4. Write a function called `sqrt_integral` which takes input parameters `u`, `p` and `N` and returns the Riemann sum (using the *midpoints* $x_k^\\*$ of a partition of size $N$):\n",
    "\n",
    "    $$\n",
    "    \\int_0^u \\frac{1}{\\sqrt{1 + x^p}} dx \\approx \\sum_{k=1}^N \\frac{1}{\\sqrt{1 + (x_k^*)^p}} \\Delta x\n",
    "    $$\n",
    "\n",
    "    where $\\Delta x = u/N$ and $x_k^* = (x_k + x_{k-1})/2$ for endpoints $x_k = k \\Delta x$."
   ]
  }
 ],
 "metadata": {
  "kernelspec": {
   "display_name": "Python 3",
   "language": "python",
   "name": "python3"
  },
  "language_info": {
   "codemirror_mode": {
    "name": "ipython",
    "version": 3
   },
   "file_extension": ".py",
   "mimetype": "text/x-python",
   "name": "python",
   "nbconvert_exporter": "python",
   "pygments_lexer": "ipython3",
   "version": "3.7.3"
  }
 },
 "nbformat": 4,
 "nbformat_minor": 2
}
