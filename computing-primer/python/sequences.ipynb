{
 "cells": [
  {
   "cell_type": "markdown",
   "metadata": {},
   "source": [
    "# Sequences\n",
    "\n",
    "The main [sequence types](https://docs.python.org/3/library/stdtypes.html#sequence-types-list-tuple-range) in Python are lists, tuples and range objects. The main differences between these sequence objects are:\n",
    "\n",
    "* Lists are [mutable](https://docs.python.org/3/glossary.html#term-mutable) and their elements are usually *homogeneous* (things of the same type making a list of similar objects)\n",
    "* Tuples are [immutable](https://docs.python.org/3/glossary.html#term-immutable) and their elements are usually *heterogeneous* (things of different types making a tuple describing a single structure)\n",
    "* Range objects are *efficient* sequences of integers (commonly used in `for` loops), use a small amount of memory and yield items only when needed"
   ]
  },
  {
   "cell_type": "markdown",
   "metadata": {},
   "source": [
    "## Lists\n",
    "\n",
    "Create a list using square brackets `[ ... ]` with items separated by commas. For example, create a list of square integers, assign it to a variable and use the built-in function `print()` to display the list:"
   ]
  },
  {
   "cell_type": "code",
   "execution_count": 1,
   "metadata": {},
   "outputs": [
    {
     "name": "stdout",
     "output_type": "stream",
     "text": [
      "[1, 4, 9, 16, 25]\n"
     ]
    }
   ],
   "source": [
    "squares = [1,4,9,16,25]\n",
    "print(squares)"
   ]
  },
  {
   "cell_type": "markdown",
   "metadata": {},
   "source": [
    "Lists may contain data of any type including other lists:"
   ]
  },
  {
   "cell_type": "code",
   "execution_count": 2,
   "metadata": {},
   "outputs": [
    {
     "name": "stdout",
     "output_type": "stream",
     "text": [
      "[[0, 0], [0, 1], [1, 1], [0, 1]]\n"
     ]
    }
   ],
   "source": [
    "points = [[0,0],[0,1],[1,1],[0,1]]\n",
    "print(points)"
   ]
  },
  {
   "cell_type": "markdown",
   "metadata": {},
   "source": [
    "### Index\n",
    "\n",
    "Access the elements of a list by their index:"
   ]
  },
  {
   "cell_type": "code",
   "execution_count": 3,
   "metadata": {},
   "outputs": [
    {
     "name": "stdout",
     "output_type": "stream",
     "text": [
      "2\n"
     ]
    }
   ],
   "source": [
    "primes = [2,3,5,7,11,13,17,19,23,29]\n",
    "print(primes[0])"
   ]
  },
  {
   "cell_type": "markdown",
   "metadata": {},
   "source": [
    "Notice that lists are indexed starting at 0:"
   ]
  },
  {
   "cell_type": "code",
   "execution_count": 4,
   "metadata": {},
   "outputs": [
    {
     "name": "stdout",
     "output_type": "stream",
     "text": [
      "3\n",
      "5\n",
      "17\n"
     ]
    }
   ],
   "source": [
    "print(primes[1])\n",
    "print(primes[2])\n",
    "print(primes[6])"
   ]
  },
  {
   "cell_type": "markdown",
   "metadata": {},
   "source": [
    "Use negative indices to access elements starting from the end of the list:"
   ]
  },
  {
   "cell_type": "code",
   "execution_count": 5,
   "metadata": {},
   "outputs": [
    {
     "name": "stdout",
     "output_type": "stream",
     "text": [
      "29\n",
      "23\n"
     ]
    }
   ],
   "source": [
    "print(primes[-1])\n",
    "print(primes[-2])"
   ]
  },
  {
   "cell_type": "markdown",
   "metadata": {},
   "source": [
    "Since lists are mutable, we may assign new values to entries in a list:"
   ]
  },
  {
   "cell_type": "code",
   "execution_count": 6,
   "metadata": {},
   "outputs": [
    {
     "name": "stdout",
     "output_type": "stream",
     "text": [
      "[-1, 3, 5, 7, 11, 13, 17, 19, 23, 29]\n"
     ]
    }
   ],
   "source": [
    "primes[0] = -1\n",
    "print(primes)"
   ]
  },
  {
   "cell_type": "markdown",
   "metadata": {},
   "source": [
    "Use multiple indices to access entries in a list of lists:"
   ]
  },
  {
   "cell_type": "code",
   "execution_count": 7,
   "metadata": {},
   "outputs": [
    {
     "name": "stdout",
     "output_type": "stream",
     "text": [
      "5\n"
     ]
    }
   ],
   "source": [
    "pairs = [[0,1],[2,3],[4,5],[6,7]]\n",
    "print(pairs[2][1])"
   ]
  },
  {
   "cell_type": "markdown",
   "metadata": {},
   "source": [
    "### Slice\n",
    "\n",
    "Create a new list from a sublist (called a slice):"
   ]
  },
  {
   "cell_type": "code",
   "execution_count": 8,
   "metadata": {},
   "outputs": [
    {
     "name": "stdout",
     "output_type": "stream",
     "text": [
      "[5, 8, 13]\n",
      "[13, 21, 34, 55, 89, 144]\n",
      "[1, 1, 2, 3, 5, 8, 13, 21, 34, 55]\n"
     ]
    }
   ],
   "source": [
    "fibonacci = [1,1,2,3,5,8,13,21,34,55,89,144]\n",
    "print(fibonacci[4:7])\n",
    "print(fibonacci[6:])\n",
    "print(fibonacci[:-2])"
   ]
  },
  {
   "cell_type": "markdown",
   "metadata": {},
   "source": [
    "Notice in the example `fibonacci[4:7]` the slice begins at index 4 and goes up to *but not including* index 7. This makes sense since the length of the slice is then 7 - 4 = 3.\n",
    "\n",
    "A slice can skip over entries in a list. For example, create a slice from every third entry from index 0 to 11:"
   ]
  },
  {
   "cell_type": "code",
   "execution_count": 9,
   "metadata": {},
   "outputs": [
    {
     "name": "stdout",
     "output_type": "stream",
     "text": [
      "[1, 3, 13, 55]\n"
     ]
    }
   ],
   "source": [
    "print(fibonacci[0:11:3])"
   ]
  },
  {
   "cell_type": "markdown",
   "metadata": {},
   "source": [
    "### Concatenate\n",
    "\n",
    "The addition operator `+` concatenates lists:"
   ]
  },
  {
   "cell_type": "code",
   "execution_count": 10,
   "metadata": {},
   "outputs": [
    {
     "name": "stdout",
     "output_type": "stream",
     "text": [
      "[1, 2, 2, 3, 3, 3]\n"
     ]
    }
   ],
   "source": [
    "one = [1]\n",
    "two = [2,2]\n",
    "three = [3,3,3]\n",
    "numbers = one + two + three\n",
    "print(numbers)"
   ]
  },
  {
   "cell_type": "markdown",
   "metadata": {},
   "source": [
    "### Append\n",
    "\n",
    "Add a value to the end of a list using the `append()` list method:"
   ]
  },
  {
   "cell_type": "code",
   "execution_count": 11,
   "metadata": {},
   "outputs": [
    {
     "name": "stdout",
     "output_type": "stream",
     "text": [
      "[1, 4, 9, 16, 25, 36]\n"
     ]
    }
   ],
   "source": [
    "squares = [1,4,9,16,25]\n",
    "squares.append(36)\n",
    "print(squares)"
   ]
  },
  {
   "cell_type": "markdown",
   "metadata": {},
   "source": [
    "What is an object method? First, an object in Python (such as a list) contains data as well as functions (called methods) to manipulate that data. Everything in Python is an object! The list `squares` in the cell above contains the integer entries (the data) but it also has methods like `append()` to manipulate the data. We'll see more about objects and methods later on. For now, see the documentation for a complete list of [list methods](https://docs.python.org/3/tutorial/datastructures.html#more-on-lists)."
   ]
  },
  {
   "cell_type": "markdown",
   "metadata": {},
   "source": [
    "## Tuples\n",
    "\n",
    "Create a tuple with parentheses `( ... )`:"
   ]
  },
  {
   "cell_type": "code",
   "execution_count": 12,
   "metadata": {},
   "outputs": [
    {
     "name": "stdout",
     "output_type": "stream",
     "text": [
      "(2019, 7, 11)\n"
     ]
    }
   ],
   "source": [
    "today = (2019,7,11)\n",
    "print(today)"
   ]
  },
  {
   "cell_type": "markdown",
   "metadata": {},
   "source": [
    "Indexing, slicing and concatenating work for tuples in the exact same way as for lists:"
   ]
  },
  {
   "cell_type": "code",
   "execution_count": 13,
   "metadata": {},
   "outputs": [
    {
     "name": "stdout",
     "output_type": "stream",
     "text": [
      "2019\n",
      "11\n",
      "(7, 11)\n"
     ]
    }
   ],
   "source": [
    "print(today[0])\n",
    "print(today[-1])\n",
    "print(today[1:3])"
   ]
  },
  {
   "cell_type": "markdown",
   "metadata": {},
   "source": [
    "## Range Objects\n",
    "\n",
    "Create a range object with the built-in function `range()`. The parameters `a`, `b` and `step` in `range(a,b,step)` are integers and the function creates an object which represents the sequence of integers from `a` to `b` (exclusively) incremented by `step`. (The parameter `step` may be omitted and is equal to 1 by default.)"
   ]
  },
  {
   "cell_type": "code",
   "execution_count": 14,
   "metadata": {},
   "outputs": [
    {
     "name": "stdout",
     "output_type": "stream",
     "text": [
      "range(0, 10)\n"
     ]
    }
   ],
   "source": [
    "digits_range = range(0,10)\n",
    "print(digits_range)"
   ]
  },
  {
   "cell_type": "markdown",
   "metadata": {},
   "source": [
    "Notice that a range object does not display the values of its entries when printed. This is because a range object is an efficient sequence which yields values only when needed.\n",
    "\n",
    "Use the built-in function `list()` to convert a range object to a list:"
   ]
  },
  {
   "cell_type": "code",
   "execution_count": 15,
   "metadata": {},
   "outputs": [
    {
     "name": "stdout",
     "output_type": "stream",
     "text": [
      "[0, 1, 2, 3, 4, 5, 6, 7, 8, 9]\n"
     ]
    }
   ],
   "source": [
    "digits_range = range(0,10)\n",
    "digits_list = list(digits_range)\n",
    "print(digits_list)"
   ]
  },
  {
   "cell_type": "markdown",
   "metadata": {},
   "source": [
    "Create a range of even integers and convert it to a list:"
   ]
  },
  {
   "cell_type": "code",
   "execution_count": 16,
   "metadata": {},
   "outputs": [
    {
     "name": "stdout",
     "output_type": "stream",
     "text": [
      "[0, 2, 4, 6, 8]\n"
     ]
    }
   ],
   "source": [
    "even_list = list(range(0,10,2))\n",
    "print(even_list)"
   ]
  },
  {
   "cell_type": "markdown",
   "metadata": {},
   "source": [
    "## Unpacking a Sequence\n",
    "\n",
    "One of the features of a Python sequence is *unpacking* where we assign all the entries of a sequence to variables in a single operation. For example, create a tuple representing a date and unpack the data as `year`, `month` and and `day`:"
   ]
  },
  {
   "cell_type": "code",
   "execution_count": 17,
   "metadata": {},
   "outputs": [
    {
     "name": "stdout",
     "output_type": "stream",
     "text": [
      "2019\n",
      "7\n",
      "11\n"
     ]
    }
   ],
   "source": [
    "today = (2019,7,11)\n",
    "year, month, day = today\n",
    "print(year)\n",
    "print(month)\n",
    "print(day)"
   ]
  },
  {
   "cell_type": "markdown",
   "metadata": {},
   "source": [
    "## List Comprehensions\n",
    "\n",
    "The built-in function `range()` is an efficient tool for creating sequences of integers but what about an arbitrary sequence? It is very inefficient to create a sequence by manually typing the numbers. For example, simply typing out the numbers from 1 to 20 takes a long time!"
   ]
  },
  {
   "cell_type": "code",
   "execution_count": 18,
   "metadata": {},
   "outputs": [
    {
     "name": "stdout",
     "output_type": "stream",
     "text": [
      "[1, 2, 3, 4, 5, 6, 7, 8, 9, 10, 11, 12, 13, 14, 15, 16, 17, 18, 19, 20]\n"
     ]
    }
   ],
   "source": [
    "numbers = [1,2,3,4,5,6,7,8,9,10,11,12,13,14,15,16,17,18,19,20]\n",
    "print(numbers)"
   ]
  },
  {
   "cell_type": "markdown",
   "metadata": {},
   "source": [
    "Python has a beautiful syntax for creating lists called [list comprehensions](https://docs.python.org/3/tutorial/datastructures.html#list-comprehensions). The syntax is:"
   ]
  },
  {
   "cell_type": "markdown",
   "metadata": {},
   "source": [
    "```python\n",
    "[expression for item in iterable]\n",
    "```"
   ]
  },
  {
   "cell_type": "markdown",
   "metadata": {},
   "source": [
    "where:\n",
    "\n",
    "* `iterable` is a range, list, tuple, or any kind of sequence object\n",
    "* `item` is a variable name which takes each value in the iterable\n",
    "* `expression` is a Python expression which is calculated for each value of `item`\n",
    "\n",
    "Use a list comprehension to create the list from 1 to 20:"
   ]
  },
  {
   "cell_type": "code",
   "execution_count": 19,
   "metadata": {},
   "outputs": [
    {
     "name": "stdout",
     "output_type": "stream",
     "text": [
      "[1, 2, 3, 4, 5, 6, 7, 8, 9, 10, 11, 12, 13, 14, 15, 16, 17, 18, 19, 20]\n"
     ]
    }
   ],
   "source": [
    "numbers = [n for n in range(1,21)]\n",
    "print(numbers)"
   ]
  },
  {
   "cell_type": "markdown",
   "metadata": {},
   "source": [
    "Create the list of square integers from $1$ to $100$:  "
   ]
  },
  {
   "cell_type": "code",
   "execution_count": 20,
   "metadata": {},
   "outputs": [
    {
     "name": "stdout",
     "output_type": "stream",
     "text": [
      "[1, 4, 9, 16, 25, 36, 49, 64, 81, 100]\n"
     ]
    }
   ],
   "source": [
    "squares = [n**2 for n in range(1,11)]\n",
    "print(squares)"
   ]
  },
  {
   "cell_type": "markdown",
   "metadata": {},
   "source": [
    "Create the periodic sequence $0,1,2,0,1,2,0,1,2,\\dots$ of length 21 (using the remainder operator `%`):"
   ]
  },
  {
   "cell_type": "code",
   "execution_count": 21,
   "metadata": {},
   "outputs": [
    {
     "name": "stdout",
     "output_type": "stream",
     "text": [
      "[0, 1, 2, 0, 1, 2, 0, 1, 2, 0, 1, 2, 0, 1, 2, 0, 1, 2, 0, 1, 2]\n"
     ]
    }
   ],
   "source": [
    "zero_one_two = [n%3 for n in range(0,21)]\n",
    "print(zero_one_two)"
   ]
  },
  {
   "cell_type": "markdown",
   "metadata": {},
   "source": [
    "## Built-in Functions for Sequences\n",
    "\n",
    "Python has several [built-in functions](https://docs.python.org/3/library/functions.html) for computing with sequences. For example, compute the length of a list:"
   ]
  },
  {
   "cell_type": "code",
   "execution_count": 22,
   "metadata": {},
   "outputs": [
    {
     "data": {
      "text/plain": [
       "3"
      ]
     },
     "execution_count": 22,
     "metadata": {},
     "output_type": "execute_result"
    }
   ],
   "source": [
    "len([1,2,3])"
   ]
  },
  {
   "cell_type": "markdown",
   "metadata": {},
   "source": [
    "Compute the sum, maximum and minimum of a list of numbers:"
   ]
  },
  {
   "cell_type": "code",
   "execution_count": 23,
   "metadata": {},
   "outputs": [
    {
     "name": "stdout",
     "output_type": "stream",
     "text": [
      "12\n",
      "8\n",
      "-5\n"
     ]
    }
   ],
   "source": [
    "random = [3,-5,7,8,-1]\n",
    "print(sum(random))\n",
    "print(max(random))\n",
    "print(min(random))"
   ]
  },
  {
   "cell_type": "markdown",
   "metadata": {},
   "source": [
    "Sort the list:"
   ]
  },
  {
   "cell_type": "code",
   "execution_count": 24,
   "metadata": {},
   "outputs": [
    {
     "data": {
      "text/plain": [
       "[-5, -1, 3, 7, 8]"
      ]
     },
     "execution_count": 24,
     "metadata": {},
     "output_type": "execute_result"
    }
   ],
   "source": [
    "sorted(random)"
   ]
  },
  {
   "cell_type": "markdown",
   "metadata": {},
   "source": [
    "Sum the numbers from 1 to 100:"
   ]
  },
  {
   "cell_type": "code",
   "execution_count": 25,
   "metadata": {},
   "outputs": [
    {
     "name": "stdout",
     "output_type": "stream",
     "text": [
      "5050\n"
     ]
    }
   ],
   "source": [
    "one_to_hundred = range(1,101)\n",
    "print(sum(one_to_hundred))"
   ]
  },
  {
   "cell_type": "markdown",
   "metadata": {},
   "source": [
    "## Examples\n",
    "\n",
    "### Triangular Numbers\n",
    "\n",
    "The formula for the sum of integers from 1 to $N$ (also known as [triangular numbers](https://en.wikipedia.org/wiki/Triangular_number)) is given by:\n",
    "\n",
    "$$\n",
    "\\sum_{k=1}^N k = \\frac{N(N+1)}{2}\n",
    "$$\n",
    "\n",
    "Let's verify the formula for $N=1000$:"
   ]
  },
  {
   "cell_type": "code",
   "execution_count": 26,
   "metadata": {},
   "outputs": [
    {
     "name": "stdout",
     "output_type": "stream",
     "text": [
      "500500\n",
      "500500.0\n"
     ]
    }
   ],
   "source": [
    "N = 1000\n",
    "left_side = sum([k for k in range(1,N+1)])\n",
    "right_side = N*(N+1)/2\n",
    "print(left_side)\n",
    "print(right_side)"
   ]
  },
  {
   "cell_type": "markdown",
   "metadata": {},
   "source": [
    "Notice the results agree (although the right side is a float since we used division)."
   ]
  },
  {
   "cell_type": "markdown",
   "metadata": {},
   "source": [
    "### Sum of Squares\n",
    "\n",
    "The sum of squares (a special case of a [geometric series](https://en.wikipedia.org/wiki/Geometric_series)) is given by the formula:\n",
    "\n",
    "$$\n",
    "\\sum_{k=1}^N k^2 = \\frac{N(N+1)(2N+1)}{6}\n",
    "$$\n",
    "\n",
    "Let's verify the formula for $N=2000$:"
   ]
  },
  {
   "cell_type": "code",
   "execution_count": 27,
   "metadata": {},
   "outputs": [
    {
     "name": "stdout",
     "output_type": "stream",
     "text": [
      "2668667000\n",
      "2668667000.0\n"
     ]
    }
   ],
   "source": [
    "N = 2000\n",
    "left_side = sum([k**2 for k in range(1,N+1)])\n",
    "right_side = N*(N+1)*(2*N+1)/6\n",
    "print(left_side)\n",
    "print(right_side)"
   ]
  },
  {
   "cell_type": "markdown",
   "metadata": {},
   "source": [
    "### Riemann Zeta Function\n",
    "\n",
    "The [Riemann zeta function](https://en.wikipedia.org/wiki/Riemann_zeta_function) is the infinite series\n",
    "\n",
    "$$\n",
    "\\zeta(s) = \\sum_{n=1}^{\\infty} \\frac{1}{n^s}\n",
    "$$\n",
    "\n",
    "Its [values](https://en.wikipedia.org/wiki/Riemann_zeta_function#Specific_values) are very mysterious! Let's verify the special value formula\n",
    "\n",
    "$$\n",
    "\\zeta(4) = \\sum_{n=1}^{\\infty} \\frac{1}{n^4} = \\frac{\\pi^4}{90}\n",
    "$$\n",
    "\n",
    "Compute the 1000th partial sum of the series:"
   ]
  },
  {
   "cell_type": "code",
   "execution_count": 28,
   "metadata": {},
   "outputs": [
    {
     "data": {
      "text/plain": [
       "1.082323233378306"
      ]
     },
     "execution_count": 28,
     "metadata": {},
     "output_type": "execute_result"
    }
   ],
   "source": [
    "terms = [1/n**4 for n in range(1,1001)]\n",
    "sum(terms)"
   ]
  },
  {
   "cell_type": "markdown",
   "metadata": {},
   "source": [
    "Compare to an approximation of $\\frac{\\pi^4}{90}$:"
   ]
  },
  {
   "cell_type": "code",
   "execution_count": 29,
   "metadata": {},
   "outputs": [
    {
     "data": {
      "text/plain": [
       "1.082319576918468"
      ]
     },
     "execution_count": 29,
     "metadata": {},
     "output_type": "execute_result"
    }
   ],
   "source": [
    "3.14159**4/90"
   ]
  },
  {
   "cell_type": "markdown",
   "metadata": {},
   "source": [
    "## Exercises\n",
    "\n",
    "1. The [Maclaurin series](https://en.wikipedia.org/wiki/Taylor_series#Trigonometric_functions) of $\\arctan(x)$ is\n",
    "\n",
    "    $$\n",
    "    \\arctan(x) = \\sum_{n = 0}^{\\infty} \\frac{(-1)^nx^{2n + 1}}{2n+1}\n",
    "    $$\n",
    "\n",
    "    Substituting $x = 1$ gives a series representation of $\\pi/4$. Compute the 5000th partial sum of the series to approximate $\\pi/4$.\n",
    "\n",
    "2. Compute the 2000th partial sum of the [alternating harmonic series](https://en.wikipedia.org/wiki/Harmonic_series_(mathematics)#Alternating_harmonic_series):\n",
    "\n",
    "    $$\\sum_{n=1}^{\\infty}\\frac{(-1)^n}{n}$$\n",
    "\n",
    "5. Write a list comprehension to create the list of lists:\n",
    "\n",
    "    $$\n",
    "    [[0, 0], [1, 1], [2, 4], [3, 9], [4, 16], [5, 25], [6, 36], [7, 49]]\n",
    "    $$"
   ]
  }
 ],
 "metadata": {
  "kernelspec": {
   "display_name": "Python 3",
   "language": "python",
   "name": "python3"
  },
  "language_info": {
   "codemirror_mode": {
    "name": "ipython",
    "version": 3
   },
   "file_extension": ".py",
   "mimetype": "text/x-python",
   "name": "python",
   "nbconvert_exporter": "python",
   "pygments_lexer": "ipython3",
   "version": "3.7.3"
  }
 },
 "nbformat": 4,
 "nbformat_minor": 2
}
