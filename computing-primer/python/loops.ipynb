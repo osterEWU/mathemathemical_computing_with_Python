{
 "cells": [
  {
   "cell_type": "markdown",
   "metadata": {},
   "source": [
    "# Loops\n",
    "\n",
    "## for Loops\n",
    "\n",
    "A [for loop](https://docs.python.org/3/reference/compound_stmts.html#for) allows us to execute a block of code multiple times with some parameters updated each time through the loop. A `for` loop begins with the `for` statement:"
   ]
  },
  {
   "cell_type": "code",
   "execution_count": 1,
   "metadata": {},
   "outputs": [
    {
     "name": "stdout",
     "output_type": "stream",
     "text": [
      "1\n",
      "2\n",
      "3\n"
     ]
    }
   ],
   "source": [
    "iterable = [1,2,3]\n",
    "for item in iterable:\n",
    "    # code block indented 4 spaces\n",
    "    print(item)"
   ]
  },
  {
   "cell_type": "markdown",
   "metadata": {},
   "source": [
    "The main points to observe are:\n",
    "\n",
    "* `for` and `in` keywords\n",
    "* `iterable` is a sequence object such as a list, tuple or range\n",
    "* `item` is a variable which takes each value in `iterable`\n",
    "* end `for` statement with a colon `:`\n",
    "* code block indented 4 spaces which executes once for each value in `iterable`\n",
    "\n",
    "For example, let's print $n^2$ for $n$ from 0 to 5:"
   ]
  },
  {
   "cell_type": "code",
   "execution_count": 2,
   "metadata": {},
   "outputs": [
    {
     "name": "stdout",
     "output_type": "stream",
     "text": [
      "0 squared is 0\n",
      "1 squared is 1\n",
      "2 squared is 4\n",
      "3 squared is 9\n",
      "4 squared is 16\n",
      "5 squared is 25\n",
      "The for loop is complete!\n"
     ]
    }
   ],
   "source": [
    "for n in [0,1,2,3,4,5]:\n",
    "    square = n**2\n",
    "    print(n,'squared is',square)\n",
    "print('The for loop is complete!')"
   ]
  },
  {
   "cell_type": "markdown",
   "metadata": {},
   "source": [
    "Copy and paste this code and any of the examples below into the [Python visualizer](http://www.pythontutor.com/visualize.html#mode=edit) to see each step in a `for` loop!"
   ]
  },
  {
   "cell_type": "markdown",
   "metadata": {},
   "source": [
    "## while Loops\n",
    "\n",
    "What if we want to execute a block of code multiple times but we don't know exactly how many times? We can't write a `for` loop because this requires us to set the length of the loop in advance. This is a situation when a [while loop](https://en.wikipedia.org/wiki/While_loop#Python) is useful.\n",
    "\n",
    "The following example illustrates a [while loop](https://docs.python.org/3/tutorial/introduction.html#first-steps-towards-programming):"
   ]
  },
  {
   "cell_type": "code",
   "execution_count": 3,
   "metadata": {},
   "outputs": [
    {
     "name": "stdout",
     "output_type": "stream",
     "text": [
      "5\n",
      "4\n",
      "3\n",
      "2\n",
      "1\n"
     ]
    }
   ],
   "source": [
    "n = 5\n",
    "while n > 0:\n",
    "    print(n)\n",
    "    n = n - 1"
   ]
  },
  {
   "cell_type": "markdown",
   "metadata": {},
   "source": [
    "The main points to observe are:\n",
    "\n",
    "* `while` keyword\n",
    "* a logical expression followed by a colon `:`\n",
    "* loop executes its code block if the logical expression evaluates to `True`\n",
    "* update the variable in the logical expression each time through the loop\n",
    "* **BEWARE!** If the logical expression *always* evaluates to `True`, then you get an [infinite loop](https://en.wikipedia.org/wiki/While_loop#Python)!\n",
    "\n",
    "We prefer `for` loops over `while` loops because of the last point. A `for` loop will never result in an infinite loop. If a loop can be constructed with `for` or `while`, we'll always choose `for`."
   ]
  },
  {
   "cell_type": "markdown",
   "metadata": {},
   "source": [
    "## Constructing Sequences\n",
    "\n",
    "There are several ways to construct a sequence of values and to save them as a Python list. We have already seen Python's list comprehension syntax. There is also the `append` list method described below.\n",
    "\n",
    "### Sequences by a Formula\n",
    "\n",
    "If a sequence is given by a formula then we can use a list comprehension to construct it. For example, the sequence of squares from 1 to 100 can be constructed using a list comprehension:"
   ]
  },
  {
   "cell_type": "code",
   "execution_count": 4,
   "metadata": {},
   "outputs": [
    {
     "name": "stdout",
     "output_type": "stream",
     "text": [
      "[1, 4, 9, 16, 25, 36, 49, 64, 81, 100]\n"
     ]
    }
   ],
   "source": [
    "squares = [d**2 for d in range(1,11)]\n",
    "print(squares)"
   ]
  },
  {
   "cell_type": "markdown",
   "metadata": {},
   "source": [
    "However, we can achieve the same result with a `for` loop and the `append` method for lists:"
   ]
  },
  {
   "cell_type": "code",
   "execution_count": 5,
   "metadata": {},
   "outputs": [
    {
     "name": "stdout",
     "output_type": "stream",
     "text": [
      "[1, 4, 9, 16, 25, 36, 49, 64, 81, 100]\n"
     ]
    }
   ],
   "source": [
    "# Intialize an empty list\n",
    "squares = []\n",
    "for d in range(1,11):\n",
    "    # Append the next square to the list\n",
    "    squares.append(d**2)\n",
    "print(squares)"
   ]
  },
  {
   "cell_type": "markdown",
   "metadata": {},
   "source": [
    "In fact, the two examples above are equivalent. The purpose of list comprehensions is to simplify and compress the syntax into a one-line construction."
   ]
  },
  {
   "cell_type": "markdown",
   "metadata": {},
   "source": [
    "### Recursive Sequences\n",
    "\n",
    "We can only use a list comprehension to construct a sequence when the sequence values are defined by a formula. But what if we want to construct a sequence where the next value depends on previous values? This is called a [recursive sequence](https://en.wikipedia.org/wiki/Recursion).\n",
    "\n",
    "For example, consider the [Fibonacci sequence](https://en.wikipedia.org/wiki/Fibonacci_number):\n",
    "\n",
    "$$\n",
    "x_1 = 1, x_2 = 1, x_3 = 2, x_4 = 3, x_5 = 5, ...\n",
    "$$\n",
    "\n",
    "where\n",
    "\n",
    "$$\n",
    "x_{n} = x_{n-1} + x_{n-2}\n",
    "$$\n",
    "\n",
    "We can't use a list comprehension to build the list of Fibonacci numbers, and so we must use a `for` loop with the `append` method instead. For example, the first 15 Fibonacci numbers are:"
   ]
  },
  {
   "cell_type": "code",
   "execution_count": 6,
   "metadata": {},
   "outputs": [
    {
     "name": "stdout",
     "output_type": "stream",
     "text": [
      "[1, 1, 2]\n",
      "[1, 1, 2, 3]\n",
      "[1, 1, 2, 3, 5]\n",
      "[1, 1, 2, 3, 5, 8]\n",
      "[1, 1, 2, 3, 5, 8, 13]\n",
      "[1, 1, 2, 3, 5, 8, 13, 21]\n",
      "[1, 1, 2, 3, 5, 8, 13, 21, 34]\n",
      "[1, 1, 2, 3, 5, 8, 13, 21, 34, 55]\n",
      "[1, 1, 2, 3, 5, 8, 13, 21, 34, 55, 89]\n",
      "[1, 1, 2, 3, 5, 8, 13, 21, 34, 55, 89, 144]\n",
      "[1, 1, 2, 3, 5, 8, 13, 21, 34, 55, 89, 144, 233]\n",
      "[1, 1, 2, 3, 5, 8, 13, 21, 34, 55, 89, 144, 233, 377]\n",
      "[1, 1, 2, 3, 5, 8, 13, 21, 34, 55, 89, 144, 233, 377, 610]\n"
     ]
    }
   ],
   "source": [
    "fibonacci_numbers = [1,1]\n",
    "for n in range(2,15):\n",
    "    fibonacci_n = fibonacci_numbers[n-1] + fibonacci_numbers[n-2]\n",
    "    fibonacci_numbers.append(fibonacci_n)\n",
    "    print(fibonacci_numbers)"
   ]
  },
  {
   "cell_type": "markdown",
   "metadata": {},
   "source": [
    "## Computing Sums\n",
    "\n",
    "Suppose we want to compute the sum of a sequence of numbers $x_0$, $x_1$, $x_2$, $x_3$, $\\dots$, $x_n$. There are at least two approaches:\n",
    "\n",
    "1. Compute the entire sequence, store it as a list $[x_0,x_1,x_2,\\dots,x_n]$ and then use the built-in function `sum`.\n",
    "2. Initialize a variable with value 0 (and name it `result` for example), create and add each element in the sequence to `result` one at a time.\n",
    "\n",
    "The advantage of the second approach is that we don't need to store all the values at once. For example, here are two ways to write a function which computes the sum of squares.\n",
    "\n",
    "For the first approach, use a list comprehension:"
   ]
  },
  {
   "cell_type": "code",
   "execution_count": 7,
   "metadata": {},
   "outputs": [],
   "source": [
    "def sum_of_squares_1(N):\n",
    "    \"Compute the sum of squares 1**2 + 2**2 + ... + N**2.\"\n",
    "    return sum([n**2 for n in range(1,N + 1)])"
   ]
  },
  {
   "cell_type": "code",
   "execution_count": 8,
   "metadata": {},
   "outputs": [
    {
     "data": {
      "text/plain": [
       "30"
      ]
     },
     "execution_count": 8,
     "metadata": {},
     "output_type": "execute_result"
    }
   ],
   "source": [
    "sum_of_squares_1(4)"
   ]
  },
  {
   "cell_type": "markdown",
   "metadata": {},
   "source": [
    "For the second approach, use a `for` loop with the initialize-and-update construction:"
   ]
  },
  {
   "cell_type": "code",
   "execution_count": 9,
   "metadata": {},
   "outputs": [],
   "source": [
    "def sum_of_squares_2(N):\n",
    "    \"Compute the sum of squares 1**2 + 2**2 + ... + N**2.\"\n",
    "    # Initialize the output value to 0\n",
    "    result = 0\n",
    "    for n in range(1,N + 1):\n",
    "        # Update the result by adding the next term\n",
    "        result = result + n**2\n",
    "    return result"
   ]
  },
  {
   "cell_type": "code",
   "execution_count": 10,
   "metadata": {},
   "outputs": [
    {
     "data": {
      "text/plain": [
       "30"
      ]
     },
     "execution_count": 10,
     "metadata": {},
     "output_type": "execute_result"
    }
   ],
   "source": [
    "sum_of_squares_2(4)"
   ]
  },
  {
   "cell_type": "markdown",
   "metadata": {},
   "source": [
    "Again, both methods yield the same result however the second uses less memory!"
   ]
  },
  {
   "cell_type": "markdown",
   "metadata": {},
   "source": [
    "## Computing Products\n",
    "\n",
    "There is no built-in function to compute products of sequences therefore we'll use an initialize-and-update construction similar to the example above for computing sums.\n",
    "\n",
    "Write a function called `factorial` which takes a positive integer $N$ and return the factorial $N!$."
   ]
  },
  {
   "cell_type": "code",
   "execution_count": 11,
   "metadata": {},
   "outputs": [],
   "source": [
    "def factorial(N):\n",
    "    \"Compute N! = N(N-1) ... (2)(1) for N >= 1.\"\n",
    "    # Initialize the output variable to 1\n",
    "    product = 1\n",
    "    for n in range(2,N + 1):\n",
    "        # Update the output variable\n",
    "        product = product * n\n",
    "    return product"
   ]
  },
  {
   "cell_type": "markdown",
   "metadata": {},
   "source": [
    "Let's test our function for input values for which we know the result:"
   ]
  },
  {
   "cell_type": "code",
   "execution_count": 12,
   "metadata": {},
   "outputs": [
    {
     "data": {
      "text/plain": [
       "2"
      ]
     },
     "execution_count": 12,
     "metadata": {},
     "output_type": "execute_result"
    }
   ],
   "source": [
    "factorial(2)"
   ]
  },
  {
   "cell_type": "code",
   "execution_count": 13,
   "metadata": {},
   "outputs": [
    {
     "data": {
      "text/plain": [
       "120"
      ]
     },
     "execution_count": 13,
     "metadata": {},
     "output_type": "execute_result"
    }
   ],
   "source": [
    "factorial(5)"
   ]
  },
  {
   "cell_type": "markdown",
   "metadata": {},
   "source": [
    "We can use our function to approximate $e$ using the Taylor series for $e^x$:\n",
    "\n",
    "$$\n",
    "e^x = \\sum_{k=0}^{\\infty} \\frac{x^k}{k!}\n",
    "$$\n",
    "\n",
    "For example, let's compute the 100th partial sum of the series with $x=1$:"
   ]
  },
  {
   "cell_type": "code",
   "execution_count": 14,
   "metadata": {},
   "outputs": [
    {
     "data": {
      "text/plain": [
       "2.7182818284590455"
      ]
     },
     "execution_count": 14,
     "metadata": {},
     "output_type": "execute_result"
    }
   ],
   "source": [
    "sum([1/factorial(k) for k in range(0,101)])"
   ]
  },
  {
   "cell_type": "markdown",
   "metadata": {},
   "source": [
    "## Searching for Solutions\n",
    "\n",
    "We can use `for` loops to search for integer solutions of equations. For example, suppose we would like to find all representations of a positive integer $N$ as a [sum of two squares](https://en.wikipedia.org/wiki/Sum_of_two_squares_theorem). In other words, we want to find all integer solutions $(x,y)$ of the equation:\n",
    "\n",
    "$$\n",
    "x^2 + y^2 = N\n",
    "$$\n",
    "\n",
    "Write a function called `reps_sum_squares` which takes an integer $N$ and finds all representations of $N$ as a sum of squares $x^2 + y^2 = N$ for $0 \\leq x \\leq y$. The function returns the representations as a list of tuples. For example, if $N = 50$ then $1^2 + 7^2 = 50$ and $5^2 + 5^2 = 50$ and the function returns the list `[(1, 7),(5, 5)]`.\n",
    "\n",
    "Let's outline our approach before we write any code:\n",
    "\n",
    "1. Given $x \\leq y$, the largest possible value for $x$ is $\\sqrt{\\frac{N}{2}}$\n",
    "2. For $x \\leq \\sqrt{\\frac{N}{2}}$, the pair $(x,y)$ is a solution if $N - x^2$ is a square\n",
    "3. Define a helper function called `is_square` to test if an integer is square"
   ]
  },
  {
   "cell_type": "code",
   "execution_count": 15,
   "metadata": {},
   "outputs": [],
   "source": [
    "def is_square(n):\n",
    "    \"Determine if the integer n is a square.\"\n",
    "    if round(n**0.5)**2 == n:\n",
    "        return True\n",
    "    else:\n",
    "        return False\n",
    "\n",
    "def reps_sum_squares(N):\n",
    "    '''Find all representations of N as a sum of squares x**2 + y**2 = N.\n",
    "\n",
    "    Parameters\n",
    "    ----------\n",
    "    N : integer\n",
    "\n",
    "    Returns\n",
    "    -------\n",
    "    reps : list of tuples of integers\n",
    "        List of tuples (x,y) of positive integers such that x**2 + y**2 = N.\n",
    "\n",
    "    Examples\n",
    "    --------\n",
    "    >>> reps_sum_squares(1105)\n",
    "    [(4, 33), (9, 32), (12, 31), (23, 24)]\n",
    "    '''\n",
    "    reps = []\n",
    "    if is_square(N/2):\n",
    "        # If N/2 is a square, search up to x = (N/2)**0.5\n",
    "        max_x = round((N/2)**0.5)\n",
    "    else:\n",
    "        # If N/2 is not a square, search up to x = floor((N/2)**0.5)\n",
    "        max_x = int((N/2)**0.5)\n",
    "    for x in range(0,max_x + 1):\n",
    "        y_squared = N - x**2\n",
    "        if is_square(y_squared):\n",
    "            y = round(y_squared**0.5)\n",
    "            # Append solution (x,y) to list of solutions\n",
    "            reps.append((x,y))\n",
    "    return reps"
   ]
  },
  {
   "cell_type": "code",
   "execution_count": 16,
   "metadata": {},
   "outputs": [
    {
     "data": {
      "text/plain": [
       "[(4, 33), (9, 32), (12, 31), (23, 24)]"
      ]
     },
     "execution_count": 16,
     "metadata": {},
     "output_type": "execute_result"
    }
   ],
   "source": [
    "reps_sum_squares(1105)"
   ]
  },
  {
   "cell_type": "markdown",
   "metadata": {},
   "source": [
    "What is the smallest integer which can be expressed as the sum of squares in 5 different ways?"
   ]
  },
  {
   "cell_type": "code",
   "execution_count": 17,
   "metadata": {},
   "outputs": [
    {
     "name": "stdout",
     "output_type": "stream",
     "text": [
      "4225 : [(0, 65), (16, 63), (25, 60), (33, 56), (39, 52)]\n"
     ]
    }
   ],
   "source": [
    "N = 1105\n",
    "num_reps = 4\n",
    "while num_reps < 5:\n",
    "    N = N + 1\n",
    "    reps = reps_sum_squares(N)\n",
    "    num_reps = len(reps)\n",
    "print(N,':',reps_sum_squares(N))"
   ]
  },
  {
   "cell_type": "markdown",
   "metadata": {},
   "source": [
    "## Examples\n",
    "\n",
    "### Prime Numbers\n",
    "\n",
    "A positive integer is [prime](https://en.wikipedia.org/wiki/Prime_number) if it is divisible only by 1 and itself. Write a function called `is_prime` which takes an input parameter `n` and returns `True` or `False` depending on whether `n` is prime or not.\n",
    "\n",
    "Let's outline our approach before we write any code:\n",
    "\n",
    "1. An integer $d$ divides $n$ if there is no remainder of $n$ divided by $d$.\n",
    "2. Use the modulus operator `%` to compute the remainder.\n",
    "3. If $d$ divides $n$ then $n = d q$ for some integer $q$ and either $d \\leq \\sqrt{n}$ or $q \\leq \\sqrt{n}$ (and not both), therefore we need only test if $d$ divides $n$ for integers $d \\leq \\sqrt{n}$"
   ]
  },
  {
   "cell_type": "code",
   "execution_count": 18,
   "metadata": {},
   "outputs": [],
   "source": [
    "def is_prime(n):\n",
    "    \"Determine whether or not n is a prime number.\"\n",
    "    if n <= 1:\n",
    "        return False\n",
    "    # Test if d divides n for d <= n**0.5\n",
    "    for d in range(2,round(n**0.5) + 1):\n",
    "        if n % d == 0:\n",
    "            # n is divisible by d and so n is not prime\n",
    "            return False\n",
    "    # If we exit the for loop, then n is not divisible by any d\n",
    "    # and therefore n is prime\n",
    "    return True"
   ]
  },
  {
   "cell_type": "markdown",
   "metadata": {},
   "source": [
    "Let's test our function on the first 30 numbers:"
   ]
  },
  {
   "cell_type": "code",
   "execution_count": 19,
   "metadata": {},
   "outputs": [
    {
     "name": "stdout",
     "output_type": "stream",
     "text": [
      "2 is prime!\n",
      "3 is prime!\n",
      "5 is prime!\n",
      "7 is prime!\n",
      "11 is prime!\n",
      "13 is prime!\n",
      "17 is prime!\n",
      "19 is prime!\n",
      "23 is prime!\n",
      "29 is prime!\n"
     ]
    }
   ],
   "source": [
    "for n in range(0,31):\n",
    "    if is_prime(n):\n",
    "        print(n,'is prime!')"
   ]
  },
  {
   "cell_type": "markdown",
   "metadata": {},
   "source": [
    "Our function works! Let's find all the primes between 20,000 and 20,100."
   ]
  },
  {
   "cell_type": "code",
   "execution_count": 20,
   "metadata": {},
   "outputs": [
    {
     "name": "stdout",
     "output_type": "stream",
     "text": [
      "20011 is prime!\n",
      "20021 is prime!\n",
      "20023 is prime!\n",
      "20029 is prime!\n",
      "20047 is prime!\n",
      "20051 is prime!\n",
      "20063 is prime!\n",
      "20071 is prime!\n",
      "20089 is prime!\n"
     ]
    }
   ],
   "source": [
    "for n in range(20000,20100):\n",
    "    if is_prime(n):\n",
    "        print(n,'is prime!')"
   ]
  },
  {
   "cell_type": "markdown",
   "metadata": {},
   "source": [
    "### Divisors\n",
    "\n",
    "Let's write a function called `divisors` which takes a positive integer $N$ and returns the list of positive integers which divide $N$."
   ]
  },
  {
   "cell_type": "code",
   "execution_count": 21,
   "metadata": {},
   "outputs": [],
   "source": [
    "def divisors(N):\n",
    "    \"Return the list of divisors of N.\"\n",
    "    # Initialize the list of divisors (which always includes 1)\n",
    "    divisor_list = [1]\n",
    "    # Check division by d for d <= N/2\n",
    "    for d in range(2,N // 2 + 1):\n",
    "        if N % d == 0:\n",
    "            divisor_list.append(d)\n",
    "    # N divides itself and so we append N to the list of divisors\n",
    "    divisor_list.append(N)\n",
    "    return divisor_list"
   ]
  },
  {
   "cell_type": "markdown",
   "metadata": {},
   "source": [
    "Let's test our function:"
   ]
  },
  {
   "cell_type": "code",
   "execution_count": 22,
   "metadata": {},
   "outputs": [
    {
     "data": {
      "text/plain": [
       "[1, 2, 5, 10]"
      ]
     },
     "execution_count": 22,
     "metadata": {},
     "output_type": "execute_result"
    }
   ],
   "source": [
    "divisors(10)"
   ]
  },
  {
   "cell_type": "code",
   "execution_count": 23,
   "metadata": {},
   "outputs": [
    {
     "data": {
      "text/plain": [
       "[1, 2, 4, 5, 10, 20, 25, 50, 100]"
      ]
     },
     "execution_count": 23,
     "metadata": {},
     "output_type": "execute_result"
    }
   ],
   "source": [
    "divisors(100)"
   ]
  },
  {
   "cell_type": "code",
   "execution_count": 24,
   "metadata": {},
   "outputs": [
    {
     "data": {
      "text/plain": [
       "[1, 59]"
      ]
     },
     "execution_count": 24,
     "metadata": {},
     "output_type": "execute_result"
    }
   ],
   "source": [
    "divisors(59)"
   ]
  },
  {
   "cell_type": "markdown",
   "metadata": {},
   "source": [
    "### Collatz Conjecture\n",
    "\n",
    "Let $a$ be a positive integer and consider the recursive sequence where $x_0 = a$ and\n",
    "\n",
    "$$\n",
    "x_{n+1} = \\left\\\\{ \\begin{array}{cl} x_n/2 & \\text{if } x_n \\text{ is even} \\\\\\\\ 3x_n+1 & \\text{if } x_n \\text{ is odd}  \\end{array} \\\\right.\n",
    "$$\n",
    "\n",
    "The [Collatz conjecture](https://en.wikipedia.org/wiki/Collatz_conjecture) states that this sequence will *always* reach 1. For example, if $a = 10$ then $x_0 = 10$, $x_1 = 5$, $x_2 = 16$, $x_3 = 8$, $x_4 = 4$, $x_5 = 2$ and $x_6 = 1$.\n",
    "\n",
    "Write a function called `collatz` which takes one input parameter `a` and returns the sequence of integers defined above and ending with the first occurrence $x_n=1$."
   ]
  },
  {
   "cell_type": "code",
   "execution_count": 25,
   "metadata": {},
   "outputs": [],
   "source": [
    "def collatz(a):\n",
    "    \"Compute the Collatz sequence starting at a and ending at 1.\"\n",
    "    # Initialize list with first value a\n",
    "    sequence = [a]\n",
    "    # Compute values until we reach 1\n",
    "    while sequence[-1] > 1:\n",
    "        # Check if the last element in the list is even\n",
    "        if sequence[-1] % 2 == 0:\n",
    "            # Compute and append the new value\n",
    "            sequence.append(sequence[-1] // 2)\n",
    "        else:\n",
    "            # Compute and append the new value\n",
    "            sequence.append(3*sequence[-1] + 1)\n",
    "    return sequence"
   ]
  },
  {
   "cell_type": "markdown",
   "metadata": {},
   "source": [
    "Let's test our function:"
   ]
  },
  {
   "cell_type": "code",
   "execution_count": 26,
   "metadata": {},
   "outputs": [
    {
     "name": "stdout",
     "output_type": "stream",
     "text": [
      "[10, 5, 16, 8, 4, 2, 1]\n"
     ]
    }
   ],
   "source": [
    "print(collatz(10))"
   ]
  },
  {
   "cell_type": "code",
   "execution_count": 27,
   "metadata": {},
   "outputs": [
    {
     "data": {
      "text/plain": [
       "[22, 11, 34, 17, 52, 26, 13, 40, 20, 10, 5, 16, 8, 4, 2, 1]"
      ]
     },
     "execution_count": 27,
     "metadata": {},
     "output_type": "execute_result"
    }
   ],
   "source": [
    "collatz(22)"
   ]
  },
  {
   "cell_type": "markdown",
   "metadata": {},
   "source": [
    "The Collatz conjecture is quite amazing. No matter where we start, the sequence always terminates at 1!"
   ]
  },
  {
   "cell_type": "code",
   "execution_count": 28,
   "metadata": {},
   "outputs": [
    {
     "name": "stdout",
     "output_type": "stream",
     "text": [
      "Collatz sequence for a = 123456789\n",
      "begins with [123456789, 370370368, 185185184, 92592592, 46296296]\n",
      "ends with [16, 8, 4, 2, 1]\n",
      "and has 178 terms.\n"
     ]
    }
   ],
   "source": [
    "a = 123456789\n",
    "seq = collatz(a)\n",
    "print(\"Collatz sequence for a =\",a)\n",
    "print(\"begins with\",seq[:5])\n",
    "print(\"ends with\",seq[-5:])\n",
    "print(\"and has\",len(seq),\"terms.\")"
   ]
  },
  {
   "cell_type": "markdown",
   "metadata": {},
   "source": [
    "Which $a < 1000$ produces the longest sequence?"
   ]
  },
  {
   "cell_type": "code",
   "execution_count": 29,
   "metadata": {},
   "outputs": [
    {
     "name": "stdout",
     "output_type": "stream",
     "text": [
      "Longest sequence begins with a = 871 and has length 179\n"
     ]
    }
   ],
   "source": [
    "max_length = 1\n",
    "a_max = 1\n",
    "for a in range(1,1001):\n",
    "    seq_length = len(collatz(a))\n",
    "    if seq_length > max_length:\n",
    "        max_length = seq_length\n",
    "        a_max = a\n",
    "print('Longest sequence begins with a =',a_max,'and has length',max_length)"
   ]
  },
  {
   "cell_type": "markdown",
   "metadata": {},
   "source": [
    "## Exercises\n",
    "\n",
    "1. [Fermat's theorem on the sum of two squares](https://en.wikipedia.org/wiki/Fermat%27s_theorem_on_sums_of_two_squares) states that every prime number $p$ of the form $4k+1$ can be expressed as the sum of two squares. For example, $5 = 2^2 + 1^2$ and $13 = 3^2 + 2^2$. Find the smallest prime greater than $2019$ of the form $4k+1$ and write it as a sum of squares. (Hint: Use the functions `is_prime` and `reps_sum_squares` from this section.)\n",
    "\n",
    "2. What is the smallest prime number which can be represented as a sum of squares in 2 different ways?\n",
    "\n",
    "3. What is the smallest integer which can be represented as a sum of squares in 3 different ways?\n",
    "\n",
    "4. Write a function called `primes_between` which takes two integer inputs $a$ and $b$ and returns the list of primes in the closed interval $[a,b]$.\n",
    "\n",
    "5. Write a function called `primes_d_mod_N` which takes four integer inputs $a$, $b$, $d$ and $N$ and returns the list of primes in the closed interval $[a,b]$ which are congruent to $d$ mod $N$ (this means that the prime has remainder $d$ after division by $N$). This kind of list is called [primes in an arithmetic progression](https://en.wikipedia.org/wiki/Dirichlet%27s_theorem_on_arithmetic_progressions).\n",
    "\n",
    "6. Write a function called `reciprocal_recursion` which takes three positive integers $x_0$, $x_1$ and $N$ and returns the sequence $[x_0,x_1,x_2,\\dots,x_N]$ where\n",
    "\n",
    "    $$\n",
    "    x_n = \\frac{1}{x_{n-1}} + \\frac{1}{x_{n-2}}\n",
    "    $$\n",
    "\n",
    "7. Write a function called `root_sequence` which takes input parameters $a$ and $N$, both positive integers, and returns the $N$th term $x_N$ in the sequence:\n",
    "\n",
    "    $$\n",
    "    \\begin{align}\n",
    "    x_0 &= a \\\\\\\n",
    "    x_n &= 1 + \\sqrt{x_{n-1}}\n",
    "    \\end{align}\n",
    "    $$\n",
    "\n",
    "    Does the sequence converge to different values for different starting values $a$?\n",
    "\n",
    "8. Write a function called `fib_less_than` which takes one input $N$ and returns the list of Fibonacci numbers less than $N$.\n",
    "\n",
    "9. Write a function called `fibonacci_primes` which takes an input parameter $N$ and returns the list of Fibonacci numbers less than $N$ which are also prime numbers.\n",
    "\n",
    "10. Let $w(N)$ be the number of ways $N$ can be expressed as a sum of two squares $x^2 + y^2 = N$ with $1 \\leq x \\leq y$. Then\n",
    "\n",
    "    $$\n",
    "    \\lim_{N \\to \\infty} \\frac{1}{N} \\sum_{n=1}^{N} w(n) = \\frac{\\pi}{8}\n",
    "    $$\n",
    "\n",
    "    Compute the left side of the formula for $N=100$ and compare the result to $\\pi / 8$.\n",
    "\n",
    "11. A list of positive integers $[a,b,c]$ (with $1 \\leq a < b$) are a [Pythagorean triple](https://en.wikipedia.org/wiki/Pythagorean_triple) if $a^2 + b^2 = c^2$. Write a function called `py_triples` which takes an input parameter $N$ and returns the list of Pythagorean triples `[a,b,c]` with $c \\leq N$."
   ]
  }
 ],
 "metadata": {
  "kernelspec": {
   "display_name": "Python 3",
   "language": "python",
   "name": "python3"
  },
  "language_info": {
   "codemirror_mode": {
    "name": "ipython",
    "version": 3
   },
   "file_extension": ".py",
   "mimetype": "text/x-python",
   "name": "python",
   "nbconvert_exporter": "python",
   "pygments_lexer": "ipython3",
   "version": "3.7.3"
  }
 },
 "nbformat": 4,
 "nbformat_minor": 2
}
