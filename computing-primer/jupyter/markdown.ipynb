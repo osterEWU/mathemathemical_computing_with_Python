{
 "cells": [
  {
   "cell_type": "markdown",
   "metadata": {},
   "source": [
    "# Markdown\n",
    "\n",
    "[Markdown](https://en.wikipedia.org/wiki/Markdown) is a simple text-to-HTML markup language written in plain text. Jupyter notebook recognizes markdown and renders markdown code as HTML. In this section, we present the basic features of markdown.\n",
    "\n",
    "![Markdown in Jupyter notebook](../img/jupyter/markdown.gif)\n",
    "\n",
    "See [Markdown](https://daringfireball.net/projects/markdown/) (by John Gruber) and [GitHub Markdown Help](https://help.github.com/articles/basic-writing-and-formatting-syntax/) for more information."
   ]
  },
  {
   "cell_type": "markdown",
   "metadata": {},
   "source": [
    "## Text\n",
    "\n",
    "| Output | Syntax |\n",
    "| :---: | :---: |\n",
    "| *emphasis* | `*emphasis*` |\n",
    "| **strong** | `**strong**` |\n",
    "| `code` | ``  `code` `` |"
   ]
  },
  {
   "cell_type": "markdown",
   "metadata": {},
   "source": [
    "## Headings\n",
    "\n",
    "| Output | Syntax |\n",
    "| :---: | :---: |\n",
    "| <h1>Heading 1</h1> | `# Heading 1` |\n",
    "| <h2>Heading 2</h2> | `## Heading 2` |\n",
    "| <h3>Heading 3</h3> | `### Heading 3` |\n",
    "| <h4>Heading 4</h4> | `#### Heading 4` |\n",
    "| <h5>Heading 5</h5> | `##### Heading 5` |\n",
    "| <h6>Heading 6</h6> | `###### Heading 6` |"
   ]
  },
  {
   "cell_type": "markdown",
   "metadata": {},
   "source": [
    "## Lists\n",
    "\n",
    "Create an ordered list using numbers:\n",
    "\n",
    "```plaintext\n",
    "1. Number theory\n",
    "2. Algebra\n",
    "3. Partial differential equations\n",
    "4. Probability\n",
    "```\n",
    "\n",
    "1. Number theory\n",
    "2. Algebra\n",
    "3. Partial differential equations\n",
    "4. Probability\n",
    "\n",
    "Create an unordered list using an asterisk * for each item:\n",
    "\n",
    "```plaintext\n",
    "* Number theory\n",
    "* Algebra\n",
    "* Partial differential equations\n",
    "* Probability\n",
    "```\n",
    "\n",
    "* Number theory\n",
    "* Algebra\n",
    "* Partial differential equations\n",
    "* Probability\n",
    "\n",
    "Use indentation to create nested lists:\n",
    "\n",
    "```plaintext\n",
    "1. Mathematics\n",
    "  * Calculus\n",
    "  * Linear Algebra\n",
    "  * Probability\n",
    "2. Physics\n",
    "  * Classical Mechanics\n",
    "  * Relativity\n",
    "  * Thermodynamics\n",
    "3. Biology\n",
    "  * Diffusion and Osmosis\n",
    "  * Homeostasis\n",
    "  * Immunology\n",
    "```\n",
    "\n",
    "1. Mathematics\n",
    "    * Calculus\n",
    "    * Linear Algebra\n",
    "    * Probability\n",
    "2. Physics\n",
    "    * Classical Mechanics\n",
    "    * Relativity\n",
    "    * Thermodynamics\n",
    "3. Biology\n",
    "    * Diffusion and Osmosis\n",
    "    * Homeostasis\n",
    "    * Immunology"
   ]
  },
  {
   "cell_type": "markdown",
   "metadata": {},
   "source": [
    "## Links\n",
    "\n",
    "Create a link with the syntax `[description](url)`. For example:\n",
    "\n",
    "```plaintext\n",
    "[UBC Math](http://www.math.ubc.ca)\n",
    "```\n",
    "\n",
    "creates the link [UBC Math](http://www.math.ubc.ca)."
   ]
  },
  {
   "cell_type": "markdown",
   "metadata": {},
   "source": [
    "## Images\n",
    "\n",
    "Include an image using the syntax `![description](url)`. For example:\n",
    "\n",
    "```plaintext\n",
    "![Jupyter logo](http://jupyter.org/assets/nav_logo.svg)\n",
    "```\n",
    "\n",
    "displays the image\n",
    "\n",
    "![Jupyter logo](http://jupyter.org/assets/nav_logo.svg)"
   ]
  },
  {
   "cell_type": "markdown",
   "metadata": {},
   "source": [
    "## Tables\n",
    "\n",
    "Create a table by separating entries by pipe characters |:\n",
    "\n",
    "```plaintext\n",
    "| Python Operator | Description  |\n",
    "| :---: | :---: |\n",
    "| `+` | addition |\n",
    "| `-` | subtraction |\n",
    "| `*` | multiplication |\n",
    "| `/` | division |\n",
    "| `**` | power |\n",
    "```\n",
    "\n",
    "| Python Operator | Description  |\n",
    "| :---: | :---: |\n",
    "| `+` | addition |\n",
    "| `-` | subtraction |\n",
    "| `*` | multiplication |\n",
    "| `/` | division |\n",
    "| `**` | power |\n",
    "\n",
    "The syntax `:---:` specifies the alignment (centered in this case) of the columns. See more about [GitHub flavoured markdown](https://help.github.com/articles/organizing-information-with-tables/)."
   ]
  },
  {
   "cell_type": "markdown",
   "metadata": {},
   "source": [
    "## Exercises\n",
    "\n",
    "1. Create a numbered list of the top 5 websites you visit most often and include a link for each site.\n",
    "2. Write a short biography of your favourite mathematician, provide a link to their Wikipedia page and include an image (with a link and description of the source).\n",
    "3. Create a table of all the courses that you have taken in university. Include the columns: course number, course title, year (that you took the class), and instructor name."
   ]
  }
 ],
 "metadata": {
  "kernelspec": {
   "display_name": "Python 3",
   "language": "python",
   "name": "python3"
  },
  "language_info": {
   "codemirror_mode": {
    "name": "ipython",
    "version": 3
   },
   "file_extension": ".py",
   "mimetype": "text/x-python",
   "name": "python",
   "nbconvert_exporter": "python",
   "pygments_lexer": "ipython3",
   "version": "3.7.3"
  }
 },
 "nbformat": 4,
 "nbformat_minor": 2
}
