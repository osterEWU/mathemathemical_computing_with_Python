{
 "cells": [
  {
   "cell_type": "markdown",
   "metadata": {},
   "source": [
    "# Jupyter Notebook\n",
    "\n",
    "From the official webpage [jupyter.org](http://jupyter.org):\n",
    "\n",
    "> The Jupyter Notebook is a web application that allows you to create and share documents that contain live code, equations, visualizations and explanatory text.\n",
    "\n",
    "In this section, we present the basic features of Jupyter notebooks. See the *User Interface Tour* in the Help menu in the Jupyter notebook.\n",
    "\n",
    "![Jupyter user interface tour](../img/jupyter/user-interface-tour.gif)"
   ]
  },
  {
   "cell_type": "markdown",
   "metadata": {},
   "source": [
    "## Cells\n",
    "\n",
    "There are two main types of cells: code cells and markdown cells. Hit `SHIFT+ENTER` to execute the contents of a cell.\n",
    "\n",
    "Markdown cells contain:\n",
    "\n",
    "* markdown\n",
    "* HTML\n",
    "* LaTeX\n",
    "* plain text\n",
    "* images\n",
    "* videos\n",
    "* *Anything* that a browser can understand\n",
    "\n",
    "For more information about markdown see [Markdown Basics on GitHub](https://help.github.com/articles/basic-writing-and-formatting-syntax/) and [Markdown Syntax](https://daringfireball.net/projects/markdown/syntax).\n",
    "\n",
    "Python code is written in code cells. Hit `SHIFT+ENTER` to execute the code. Output is displayed below the code cell:"
   ]
  },
  {
   "cell_type": "code",
   "execution_count": 1,
   "metadata": {},
   "outputs": [
    {
     "name": "stdout",
     "output_type": "stream",
     "text": [
      "1\n",
      "4\n",
      "9\n",
      "16\n",
      "25\n",
      "36\n",
      "49\n",
      "64\n",
      "81\n",
      "100\n"
     ]
    }
   ],
   "source": [
    "# Python code to display the first 10 square numbers\n",
    "for n in range(1,11):\n",
    "    print(n**2)"
   ]
  },
  {
   "cell_type": "markdown",
   "metadata": {},
   "source": [
    "## Modes\n",
    "\n",
    "There are two modes: edit mode and command mode. Press `ESC` to enter command mode and `ENTER` for edit mode.\n",
    "\n",
    "Edit mode is for writing text and code in the cell. Edit mode is indicated by a green border around the cell.\n",
    "\n",
    "Command mode is for notebook editing commands such as cut cell, paste cell, and insert cell above. Command mode is indicated by a blue border around the cell."
   ]
  },
  {
   "cell_type": "markdown",
   "metadata": {},
   "source": [
    "## Keyboard Shortcuts\n",
    "\n",
    "The toolbar has buttons for common actions however you can increase the speed of your workflow by memorizing the following keyboard shortcuts in command mode:\n",
    "\n",
    "| Command Mode Action | Shortcut |\n",
    "| :---: | :---: |\n",
    "| insert empty cell above | `a` |\n",
    "| insert empty cell below | `b` |\n",
    "| copy cell | `c` |\n",
    "| cut cell | `x` |\n",
    "| paste cell below | `v` |\n",
    "| to code cell | `y` |\n",
    "| to markdown cell | `m` |\n",
    "| save and checkpoint | `s` |\n",
    "| execute cell | `SHIFT+ENTER` |\n",
    "| to edit mode | `ENTER` |\n",
    "| to command mode | `ESC` |\n",
    "\n",
    "See *Help* in the toolbar of the Jupyter notebook to see the list of keyboard shortcuts."
   ]
  }
 ],
 "metadata": {
  "kernelspec": {
   "display_name": "Python 3",
   "language": "python",
   "name": "python3"
  },
  "language_info": {
   "codemirror_mode": {
    "name": "ipython",
    "version": 3
   },
   "file_extension": ".py",
   "mimetype": "text/x-python",
   "name": "python",
   "nbconvert_exporter": "python",
   "pygments_lexer": "ipython3",
   "version": "3.7.3"
  }
 },
 "nbformat": 4,
 "nbformat_minor": 2
}
